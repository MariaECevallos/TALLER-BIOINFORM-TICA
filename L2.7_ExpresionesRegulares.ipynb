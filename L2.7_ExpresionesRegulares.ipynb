{
 "cells": [
  {
   "cell_type": "markdown",
   "metadata": {},
   "source": [
    "<img src=\"https://utn.educativa.org/archivos/logos/Logo_aula_virtual_2Mesa_de_trabajo_4-8.png\" width=200 height=150 />\n",
    "\n",
    "<center><h1 style=\"color:red\">BIOINFORMÁTICA</h1></center>\n",
    "\n",
    "\n",
    "# EXPRESIONES REGULARES\n",
    "\n",
    "**Moises Gualapuro**"
   ]
  },
  {
   "cell_type": "markdown",
   "metadata": {
    "id": "4is38N8iWbCp"
   },
   "source": [
    "Uno de los problemas más comunes con que nos solemos encontrar al desarrollar cualquier programa informático, es el de procesamiento de texto. Esta tarea puede resultar bastante trivial para el cerebro humano, ya que nosotros podemos detectar con facilidad que es un número y que una letra, o cuales son palabras que cumplen con un determinado patrón y cuales no; pero estas mismas tareas no son tan fáciles para una computadora. Es por esto, que el procesamiento de texto siempre ha sido uno de los temas más relevantes en las ciencias de la computación. Luego de varias décadas de investigación se logró desarrollar un poderoso y versátil lenguaje que cualquier computadora puede utilizar para reconocer patrones de texto; este lenguale es lo que hoy en día se conoce con el nombre de expresiones regulares; las operaciones de validación, búsqueda, extracción y sustitución de texto ahora son tareas mucho más sencillas para las computadoras gracias a las expresiones regulares.\n",
    "\n",
    "\n",
    "## ¿Qué son las Expresiones Regulares?\n",
    "\n",
    "Las [expresiones regulares](https://es.wikipedia.org/wiki/Expresi%C3%B3n_regular), a menudo llamada también regex, son unas secuencias de caracteres que forma un `patrón de búsqueda`, las cuales son formalizadas por medio de una `sintaxis específica`. Los patrones se interpretan como un conjunto de instrucciones, que luego se ejecutan sobre un texto de entrada para producir un subconjunto o una versión modificada del texto original. Las expresiones regulares pueden incluir patrones de coincidencia literal, de repetición, de composición, de ramificación, y otras sofisticadas reglas de reconocimiento de texto . Las expresiones regulares deberían formar parte del arsenal de cualquier buen programador ya que un gran número de problemas de procesamiento de texto pueden ser fácilmente resueltos con ellas.\n",
    "\n",
    "\n",
    "## ¿Para qué usamos las expresiones regulares?\n",
    "\n",
    "Para los progrmadores en general y para resolver para muchos problemas biológicos, las expresiones regulares pueden salvar el día. Estas se pueden utilizar para: \n",
    "\n",
    "* **Recopilar información**: buscando patrones correspondientes a características estructurales o funcionales en los datos de secuencia (por ejemplo, sitios de unión de cebadores, sitios de unión de factores de transcripción, otros). De manera similar, las búsquedas simples pueden hacer coincidir el número de accesiones y genes, o extraer referencias de un manuscrito.\n",
    "\n",
    "* **Navegar y analizar archivos de texto**: siempre que el texto está semiestructurado es fácil procesar usando expresiones regulares. \n",
    "\n",
    "* **Reemplazo más sofisticado**: a veces, desea reemplazar todas las cadenas que son similares a una cadena determinada (por ejemplo, con variaciones en mayúsculas o espacios). Las expresiones regulares le permiten buscar y reemplazar cadenas de acuerdo con patrones.\n",
    "\n",
    "* **Acortar su código**: unas pocas líneas de expresiones regulares pueden reemplazar muchas líneas de código. Este es un aspecto controvertido ya que las expresiones regulares son compactas, pero notoriamente difíciles de leer.\n",
    "\n",
    "2020_cghta_gt_d1.txt\n",
    "\n",
    "2020_cghta_gt_d2.txt\n",
    "\n",
    "2020_cghta_gt_d3.txt\n",
    "\n",
    "2020_cghta_gt_d4.txt\n",
    "\n",
    "2020_fdshf_gt_d1.txt\n",
    "\n",
    "2020_fdshf_gt_d2.txt\n",
    "\n",
    "2020_fdshf_gt_d3.txt\n",
    "\n",
    "2020_fdshf_gt_d4.txt\n",
    "\n",
    "\n",
    "## Componentes de las Expresiones Regulares\n",
    "Las expresiones regulares son un mini lenguaje en sí mismo, por lo que para poder utilizarlas eficientemente primero debemos entender los componentes de su sintaxis; ellos son:\n",
    "\n",
    "* **Literales**: Cualquier caracter se encuentra a sí mismo, a menos que se trate de un metacaracter con significado especial. Una serie de caracteres encuentra esa misma serie en el texto de entrada, por lo tanto la plantilla \"ATTT\" encontrará todas las apariciones de \"ATTT\" en el texto que procesamos.\n",
    "\n",
    "* **Secuencias de escape**: La sintaxis de las expresiones regulares nos permite utilizar las secuencias de escape que ya conocemos de otros lenguajes de programación para esos casos especiales como ser finales de línea, tabs, barras diagonales, etc. Las principales secuencias de escape que podemos encontrar, son:\n",
    "\n",
    "\n",
    "\n",
    "### Ejemplo expresiones regulares\n",
    "Siempre se requiere elementos de prueba en vivo para crear un Regex, ya que puede complicarse con mucha facilidad. La mejor manera es usar la estrategia **\"divide y vencerás\"**: divide tu Regex en varios Regex más pequeños, y luego combínalos todos. Por ejemplo, se tiene la siguiente expresión regular que busca un patrón de correo electrónico:\n",
    "\n",
    "```python\n",
    "/[\\w._%+-]+@[\\w.-]+\\.[a-zA-Z]{2,4}/\n",
    "\n",
    "```\n",
    "\n",
    "<img src=\"https://www.novixys.com/blog/wp-content/uploads/2018/02/regex.png\" width=600 height=450 />"
   ]
  },
  {
   "cell_type": "markdown",
   "metadata": {
    "id": "QF4LeSeJWbCy"
   },
   "source": [
    "# Expresiones regulares en Python\n",
    "\n",
    "Python tiene un módulo (librería) para trabajar con **r**egular **e**xpressions (expresiones regulares), es la librería `re`. "
   ]
  },
  {
   "cell_type": "code",
   "execution_count": null,
   "metadata": {
    "id": "-4QogzvwWbCy"
   },
   "outputs": [],
   "source": [
    "import re"
   ]
  },
  {
   "cell_type": "markdown",
   "metadata": {
    "id": "cVD05YcQWbCz"
   },
   "source": [
    "## Sintaxis general de expresiones regulares (REGEX)\n",
    "\n",
    "En general, las letras y los caracteres coinciden con ellos mismos. \"Python\" va a coincidir con \"Python\" (pero no con \"python\"). Las excepciones a esta regla son los metacaracteres, que son caracteres que tienen un significado especial en el contexto del REGEX:\n",
    "\n",
    "```python\n",
    ". ^ $ * +? {[] \\ | ()\n",
    "```\n",
    "\n",
    "\n",
    "Veamos el significado de los caracteres especiales más utilizados:\n",
    "\n",
    "* `. (punto)`: Coincide con cualquier carácter, excepto la nueva línea: \"ATT.T\" coincidirá con \"ATTCT\", \"ATTFT\" pero no con \"ATTTCT\".\n",
    "\n",
    "* `^ (carat)`: Coincide con el comienzo de la cadena: “^ AUG” coincidirá con “AUGAGC” pero no con “AAUGC”. Usar dentro de un grupo significa \"opuesto\".\n",
    "\n",
    "* `$ (dólar)`: Coincide con el final de la cadena o justo antes de una nueva línea al final de la cadena: \"UAA $\" coincidirá con \"AGCUAA\" pero no con \"ACUAAG\".\n",
    "\n",
    "* `* (asterisco)`: Coincide con 0 o más repeticiones del token anterior: \"AT *\" coincidirá con \"AAT\", \"A\", pero no con \"TT\".\n",
    "\n",
    "* `+ (más)`: El REGEX resultante coincidirá con 1 o más repeticiones del REGEX anterior: \"AT +\" coincidirá con \"ATT\", pero no con \"A\".\n",
    "\n",
    "* `? (signo de interrogación)`: El REGEX resultante coincide con 0 o 1 repeticiones del RE anterior. \"¿A?\" coincidirá con \"A\" o \"AT\".\n",
    "\n",
    "* `(...)`: Coincide con cualquier expresión regular que esté entre paréntesis e indica el inicio y el final de un grupo. Para hacer coincidir los literales \"(\" o \")\", use \\ (o \\), o enciérrelos dentro de una clase de caracteres: `[(] [)]`.\n",
    "\n",
    "* `(?: ...)`: una versión no agrupada de paréntesis regulares. La subcadena que coincide con el grupo no se puede recuperar después de realizar una coincidencia.\n",
    "\n",
    "* `{n}`: Exactamente n copias del REGEX anterior coincidirán: \"(ATTG) {3}\" coincidirá con \"ATTGATTGATTG\" pero no con \"ATTGATTG\".\n",
    "\n",
    "* `{m, n}`: El REGEX resultante coincidirá de m a n repeticiones del REGEX anterior: “(AT) {3,5}” coincidirá con “ATATTATATAT” pero no con “ATATTATAT”. Sin m, coincidirá a partir de 0 repeticiones. Sin n, coincidirá con todas las repeticiones.\n",
    "\n",
    "* `[] (corchetes)`: indica un conjunto de caracteres. “[A-Z]” coincidirá con cualquier letra mayúscula y “[a-z0-9]” coincidirá con cualquier letra minúscula o dígito. Los metacaracteres no están activos dentro de los conjuntos REGEX. “[AT *]” coincidirá con “A”, “T” o “*”. El ^ dentro de un conjunto coincidirá con el complemento de un conjunto. \"[^ R]\" coincidirá con cualquier carácter excepto \"R\".\n",
    "\n",
    "* `\\ (barra invertida)`: se utiliza para escapar de los caracteres reservados (para hacer coincidir caracteres como \"?\", \"*\"). Dado que Python también usa la barra invertida como carácter de escape, debe pasar una cadena sin procesar para expresar el patrón.\n",
    "\n",
    "* `| (barra vertical)`: como en lógica, se lee como \"o\". Cualquier número de REGEX se puede separar por \"|\". “A | T” coincidirá con “A”, “T” o “AT”.\n",
    "\n",
    "**Otras secuencias especiales**\n",
    "\n",
    "* `\\number`: El contenido del grupo del mismo número, comenzando desde 1\n",
    "* `\\A`: Solo al inicio de un texto \n",
    "* `\\b`: Un texto en blanco, solo al inicio o final de una palabra\n",
    "* `\\B`: Un texto en blanco, solo si no está al inicio o final de una palabra\n",
    "* `\\d`: Cualquier decimal digito ([0-9])\n",
    "* `\\D`: Cualquier no dígito ([^0-9])\n",
    "* `\\s`: Cualquier caracter de espacio en blanco  ([\\t\\n\\r\\f\\v])\n",
    "* `\\S`: Cualquier caracter que no es espacio en blanco ([^\\t\\n\\r\\f\\v])\n",
    "* `\\w`: Cualquier caracter alfanumérico ([a-zA-Z0-9_])\n",
    "* `\\W`: Cualquier caracter no alfanumérico ([^a-zA-Z0-9_]\n",
    "* `\\Z`: Solo el final del caracter\n",
    "* `\\n`: Nueva linea, salto de línea\n",
    "* `\\t`: Espacio en forma de `tab`.\n",
    "\n",
    "Puede revisar más detalles en https://learnbyexample.github.io/python-regex-cheatsheet/"
   ]
  },
  {
   "cell_type": "markdown",
   "metadata": {
    "id": "fWkEFdqMWbC0"
   },
   "source": [
    "## Funciones del módulo `re`\n",
    "\n",
    "`re.search(pattern, string, flags=0)`\n",
    "\n",
    "Examina a través de la string («cadena») buscando el primer lugar donde el pattern («patrón») de la expresión regular produce una coincidencia, y retorna un objeto match correspondiente. Retorna None si ninguna posición en la cadena coincide con el patrón; notar que esto es diferente a encontrar una coincidencia de longitud cero en algún punto de la cadena.\n",
    "\n",
    "`re.match(pattern, string, flags=0)`\n",
    "\n",
    "Si cero o más caracteres al principio de la string («cadena») coinciden con el pattern («patrón») de la expresión regular, retorna un objeto match correspondiente. Retorna None si la cadena no coincide con el patrón; notar que esto es diferente de una coincidencia de longitud cero. Si se quiere localizar una coincidencia en cualquier lugar de la string («cadena»), se utiliza search() en su lugar (ver también search() vs. match()).\n",
    "\n",
    "`re.fullmatch(pattern, string, flags=0)`\n",
    "\n",
    "Si toda la string («cadena») coincide con el pattern («patrón») de la expresión regular, retorna un correspondiente objeto match. Retorna None si la cadena no coincide con el patrón; notar que esto es diferente de una coincidencia de longitud cero.\n",
    "\n",
    "`re.split(pattern, string, maxsplit=0, flags=0)`\n",
    "\n",
    "Divide la string («cadena») por el número de ocurrencias del pattern («patrón»). Si se utilizan paréntesis de captura en pattern, entonces el texto de todos los grupos en el patrón también se retornan como parte de la lista resultante. Si maxsplit (máxima divisibilidad) es distinta de cero, como mucho se producen maxsplit divisiones, y el resto de la cadena se retorna como elemento final de la lista.\n",
    "\n",
    "`re.findall(pattern, string, flags=0)`\n",
    "\n",
    "Retorna todas las coincidencias no superpuestas del pattern («patrón») en la string («cadena»), como una lista de cadenas. La cadena es examinada de izquierda a derecha, y las coincidencias son retornadas en el orden en que fueron encontradas. Si uno o más grupos están presentes en el patrón, retorna una lista de grupos; esta será una lista de tuplas si el patrón tiene más de un grupo. Las coincidencias vacías se incluyen en el resultado.\n",
    "\n",
    "`re.finditer(pattern, string, flags=0)`\n",
    "\n",
    "Retorna un iterator que produce objetos de coincidencia sobre todas las coincidencias no superpuestas para pattern («patrón») de RE en la string («cadena»). La string es examinada de izquierda a derecha, y las coincidencias son retornadas en el orden en que se encuentran. Las coincidencias vacías se incluyen en el resultado.\n",
    "\n",
    "`re.sub(pattern, repl, string, count=0, flags=0)`\n",
    "\n",
    "Retorna la cadena obtenida reemplazando las ocurrencias no superpuestas del pattern («patrón») en la string («cadena») por el reemplazo de repl. Si el patrón no se encuentra, se retorna string sin cambios. repl puede ser una cadena o una función; si es una cadena, cualquier barra inversa escapada en ella es procesada. Es decir, \\n se convierte en un carácter de una sola línea nueva, \\r se convierte en un retorno de carro, y así sucesivamente. Los escapes desconocidos de las letras ASCII se reservan para un uso futuro y se tratan como errores. Otros escapes desconocidos como \\& no se utilizan. Las referencias inversas, como \\6, se reemplazan por la subcadena que corresponde al grupo 6 del patrón. \n",
    "\n",
    "`re.subn(pattern, repl, string, count=0, flags=0)`\n",
    "\n",
    "Realiza la misma operación que sub(), pero retorna una tupla (new_string, number_of_subs_made).\n",
    "\n",
    "`re.escape(pattern)`\n",
    "\n",
    "Caracteres de escape especiales en pattern (» patrón»). Esto es útil si quieres hacer coincidir una cadena literal arbitraria que puede tener metacaracteres de expresión regular en ella. \n",
    "\n",
    "`re.purge()`\n",
    "\n",
    "Despeja la caché de expresión regular."
   ]
  },
  {
   "cell_type": "code",
   "execution_count": null,
   "metadata": {
    "id": "AIwFhZGgWbC0",
    "outputId": "676d2e66-de17-4394-d645-90e3d4eb4ed5"
   },
   "outputs": [
    {
     "name": "stdout",
     "output_type": "stream",
     "text": [
      "<re.Match object; span=(9, 14), match='hello'>\n"
     ]
    },
    {
     "data": {
      "text/plain": [
       "'hello'"
      ]
     },
     "execution_count": 2,
     "metadata": {},
     "output_type": "execute_result"
    }
   ],
   "source": [
    "import re\n",
    "mo = re.search(\"hello\", \"fsjkgjkjghelloHello world, helloPython!\")\n",
    "\n",
    "print(mo)\n",
    "mo.group()"
   ]
  },
  {
   "cell_type": "code",
   "execution_count": null,
   "metadata": {
    "id": "6kY4nvDjWbC1",
    "outputId": "27e8bee7-c7f8-4b08-9598-a5cdba527449"
   },
   "outputs": [
    {
     "name": "stdout",
     "output_type": "stream",
     "text": [
      "<re.Match object; span=(2, 7), match='given'>\n"
     ]
    }
   ],
   "source": [
    "my_string = \"a given string of forgiven sentence\"\n",
    "m = re.search(r\"given\", my_string)\n",
    "print(m)"
   ]
  },
  {
   "cell_type": "code",
   "execution_count": null,
   "metadata": {
    "id": "GBUqX-3uWbC1",
    "outputId": "7943a8e9-b4ba-4668-f877-0724ef932df9"
   },
   "outputs": [
    {
     "data": {
      "text/plain": [
       "'given'"
      ]
     },
     "execution_count": 5,
     "metadata": {},
     "output_type": "execute_result"
    }
   ],
   "source": [
    "# recupera el match \n",
    "m.group()"
   ]
  },
  {
   "cell_type": "code",
   "execution_count": null,
   "metadata": {
    "id": "A4lFoYSHWbC2",
    "outputId": "b056c51a-95b7-4b85-8d61-6f01435a2894"
   },
   "outputs": [
    {
     "name": "stdout",
     "output_type": "stream",
     "text": [
      "None\n"
     ]
    }
   ],
   "source": [
    "m = re.search(r\"9\", my_string)\n",
    "print(m)"
   ]
  },
  {
   "cell_type": "code",
   "execution_count": null,
   "metadata": {
    "id": "QsqPjgqUWbC2",
    "outputId": "646255d1-e8ac-4d9c-ac21-539ade7e8d33"
   },
   "outputs": [
    {
     "name": "stdout",
     "output_type": "stream",
     "text": [
      "<re.Match object; span=(1, 2), match=' '>\n"
     ]
    },
    {
     "data": {
      "text/plain": [
       "' given'"
      ]
     },
     "execution_count": 3,
     "metadata": {},
     "output_type": "execute_result"
    }
   ],
   "source": [
    "# Encontrando un espacio en blanco\n",
    "my_string = \"a given string of forgiven sentence\"\n",
    "m = re.search(r\"\\s\", my_string)\n",
    "print(m)\n",
    "m.group()\n",
    "\n",
    "my_string[1:7]"
   ]
  },
  {
   "cell_type": "code",
   "execution_count": null,
   "metadata": {
    "id": "OVvxuMvMWbC3",
    "outputId": "30772a20-5343-4b02-dd75-44b65cb28cbd"
   },
   "outputs": [
    {
     "name": "stdout",
     "output_type": "stream",
     "text": [
      "<re.Match object; span=(1, 8), match=' g1ven '>\n"
     ]
    },
    {
     "data": {
      "text/plain": [
       "' g1ven '"
      ]
     },
     "execution_count": 4,
     "metadata": {},
     "output_type": "execute_result"
    }
   ],
   "source": [
    "# Encontrando un espacio en blanco seguido de 5 letras\n",
    "my_string = \"a g1ven string of forgiven sentence\"\n",
    "m = re.search(r\"\\s\\w\\w\\w\\w\\w\\s\", my_string)\n",
    "print(m)\n",
    "m.group()\n"
   ]
  },
  {
   "cell_type": "code",
   "execution_count": null,
   "metadata": {
    "id": "oJ5wzheAWbC3",
    "outputId": "08b9e02f-867f-4d7b-b1f7-3982fb27b90d"
   },
   "outputs": [
    {
     "name": "stdout",
     "output_type": "stream",
     "text": [
      "(17, 27)\n"
     ]
    },
    {
     "data": {
      "text/plain": [
       "' forgiven '"
      ]
     },
     "execution_count": 7,
     "metadata": {},
     "output_type": "execute_result"
    }
   ],
   "source": [
    "# Encontrando un espacio en blanco seguido de 5 letras usando conjuntos\n",
    "m = re.search(r\"\\s\\w{8}\\s\", my_string)\n",
    "print(m.span())\n",
    "m.group()"
   ]
  },
  {
   "cell_type": "code",
   "execution_count": null,
   "metadata": {
    "id": "FYNOmILAWbC3",
    "outputId": "dce73221-90ea-4918-c1e2-ea147384181b"
   },
   "outputs": [
    {
     "data": {
      "text/plain": [
       "'sunflowers'"
      ]
     },
     "execution_count": 10,
     "metadata": {},
     "output_type": "execute_result"
    }
   ],
   "source": [
    "# Busca palabra que inicia con mayúscula o minúscula seguido de dos letras\n",
    "my_string = \"sunflowers are described on page 89\"\n",
    "m = re.search(r\"[sS]\\w{9}\", my_string)\n",
    "m.group()\n"
   ]
  },
  {
   "cell_type": "code",
   "execution_count": null,
   "metadata": {
    "id": "sia-aCULWbC4",
    "outputId": "c726685f-2655-4d86-8994-85ba08db103a"
   },
   "outputs": [
    {
     "data": {
      "text/plain": [
       "'89'"
      ]
     },
     "execution_count": 41,
     "metadata": {},
     "output_type": "execute_result"
    }
   ],
   "source": [
    "# Busca valores números de dos dígitos\n",
    "my_string = \"sis sunflowers are described on page 89 of 189\"\n",
    "m = re.search(r\"\\d{2}\", my_string)\n",
    "m.group()"
   ]
  },
  {
   "cell_type": "code",
   "execution_count": null,
   "metadata": {
    "id": "cZP96nb0WbC4"
   },
   "outputs": [],
   "source": [
    "m = re.search(r\"[0-9]{3}\", my_string)\n",
    "m.group()"
   ]
  },
  {
   "cell_type": "code",
   "execution_count": null,
   "metadata": {
    "id": "XTeUNPwmWbC4",
    "outputId": "8d1903b4-42ac-47f9-d3f2-ba6aff854dbc"
   },
   "outputs": [
    {
     "data": {
      "text/plain": [
       "'189'"
      ]
     },
     "execution_count": 51,
     "metadata": {},
     "output_type": "execute_result"
    }
   ],
   "source": [
    "m = re.search(r\"\\d{3}\", my_string)\n",
    "m.group()"
   ]
  },
  {
   "cell_type": "code",
   "execution_count": null,
   "metadata": {
    "id": "qr5jGwVcWbC4",
    "outputId": "6f2d0b39-13ea-4596-b9f7-87e6b12e41ab"
   },
   "outputs": [
    {
     "data": {
      "text/plain": [
       "' sunflo'"
      ]
     },
     "execution_count": 47,
     "metadata": {},
     "output_type": "execute_result"
    }
   ],
   "source": [
    " m = re.search(r\"[^s-z]\\w{6}\", my_string)\n",
    "m.group()"
   ]
  },
  {
   "cell_type": "code",
   "execution_count": null,
   "metadata": {
    "id": "1maeQ572WbC4",
    "outputId": "9915fd82-e103-4893-cf7c-176d83b55a56"
   },
   "outputs": [
    {
     "data": {
      "text/plain": [
       "'A'"
      ]
     },
     "execution_count": 50,
     "metadata": {},
     "output_type": "execute_result"
    }
   ],
   "source": [
    "# buscar mayúsculas que coincida una o más veces\n",
    "re.search(r\"[ACGT]+\",\"A possible explanation is the motif ATTCGT.\").group()\n"
   ]
  },
  {
   "cell_type": "code",
   "execution_count": null,
   "metadata": {
    "id": "ebzdnVL1WbC5",
    "outputId": "87658f7f-10e4-4e71-9185-2b3a37ef0227"
   },
   "outputs": [
    {
     "data": {
      "text/plain": [
       "'ATTCGT'"
      ]
     },
     "execution_count": 58,
     "metadata": {},
     "output_type": "execute_result"
    }
   ],
   "source": [
    "# buscar mayúsculas que coincida n o más veces \n",
    "re.search(r\"[ACGT]+\", \"the motif ATTCGT\").group()"
   ]
  },
  {
   "cell_type": "code",
   "execution_count": null,
   "metadata": {
    "id": "wtRU7oWrWbC5",
    "outputId": "fe9c55d7-da9c-423f-f828-4d826d0d4734"
   },
   "outputs": [
    {
     "data": {
      "text/plain": [
       "'once upon a time in a '"
      ]
     },
     "execution_count": 64,
     "metadata": {},
     "output_type": "execute_result"
    }
   ],
   "source": [
    "# Sobrepoblación y confusión\n",
    "my_string = \"once upon a time in a wonderland\"\n",
    "re.search(r\".*\\s\", my_string).group()"
   ]
  },
  {
   "cell_type": "code",
   "execution_count": null,
   "metadata": {
    "id": "VA40lExNWbC5",
    "outputId": "a9e6076d-4ab3-44fd-9b87-ff5f49ce8891"
   },
   "outputs": [
    {
     "data": {
      "text/plain": [
       "'once '"
      ]
     },
     "execution_count": 66,
     "metadata": {},
     "output_type": "execute_result"
    }
   ],
   "source": [
    "# Hacer coincidir una sola vez\n",
    "re.search(r\".*?\\s\", \"once upon a time in a wonderland\").group()"
   ]
  },
  {
   "cell_type": "code",
   "execution_count": null,
   "metadata": {
    "id": "T86MHeO0WbC5",
    "outputId": "c2bd9cda-47b3-40d9-9a01-4608ee5c8f80"
   },
   "outputs": [
    {
     "ename": "AttributeError",
     "evalue": "'NoneType' object has no attribute 'group'",
     "output_type": "error",
     "traceback": [
      "\u001b[1;31m---------------------------------------------------------------------------\u001b[0m",
      "\u001b[1;31mAttributeError\u001b[0m                            Traceback (most recent call last)",
      "\u001b[1;32m<ipython-input-71-1138ccbd047d>\u001b[0m in \u001b[0;36m<module>\u001b[1;34m\u001b[0m\n\u001b[0;32m      2\u001b[0m \u001b[0mmy_string\u001b[0m \u001b[1;33m=\u001b[0m \u001b[1;34m\"SGTATA\"\u001b[0m\u001b[1;33m\u001b[0m\u001b[1;33m\u001b[0m\u001b[0m\n\u001b[0;32m      3\u001b[0m \u001b[1;33m\u001b[0m\u001b[0m\n\u001b[1;32m----> 4\u001b[1;33m \u001b[0mre\u001b[0m\u001b[1;33m.\u001b[0m\u001b[0msearch\u001b[0m\u001b[1;33m(\u001b[0m\u001b[1;34mr\"^TATA\"\u001b[0m\u001b[1;33m,\u001b[0m \u001b[0mmy_string\u001b[0m\u001b[1;33m)\u001b[0m\u001b[1;33m.\u001b[0m\u001b[0mgroup\u001b[0m\u001b[1;33m(\u001b[0m\u001b[1;33m)\u001b[0m\u001b[1;33m\u001b[0m\u001b[1;33m\u001b[0m\u001b[0m\n\u001b[0m",
      "\u001b[1;31mAttributeError\u001b[0m: 'NoneType' object has no attribute 'group'"
     ]
    }
   ],
   "source": [
    "# El patrón busca está al inicio\n",
    "my_string = \"SGTATA\"\n",
    "\n",
    "re.search(r\"^TATA\", my_string).group()"
   ]
  },
  {
   "cell_type": "code",
   "execution_count": null,
   "metadata": {
    "id": "YQZFPaX3WbC5",
    "outputId": "998f6282-f7d7-4317-b436-73cf834da80c"
   },
   "outputs": [
    {
     "data": {
      "text/plain": [
       "'TATA'"
      ]
     },
     "execution_count": 72,
     "metadata": {},
     "output_type": "execute_result"
    }
   ],
   "source": [
    "# El patrón está al final\n",
    "re.search(r\"TATA$\", my_string).group()"
   ]
  },
  {
   "cell_type": "code",
   "execution_count": null,
   "metadata": {
    "id": "eksjKoPtWbC6",
    "outputId": "186decfb-a53c-412a-fca3-f353192015ba"
   },
   "outputs": [
    {
     "data": {
      "text/plain": [
       "' time'"
      ]
     },
     "execution_count": 22,
     "metadata": {},
     "output_type": "execute_result"
    }
   ],
   "source": [
    "# El patrón está al final y tiene cualqueir palabra separada por un espacio\n",
    "re.search(r\"\\s\\w*$\", \"once upon a time\").group()"
   ]
  },
  {
   "cell_type": "code",
   "execution_count": null,
   "metadata": {
    "id": "Hu5zuojGWbC6",
    "outputId": "87212c70-739a-4870-a3d2-9fbfe24a79fa"
   },
   "outputs": [
    {
     "data": {
      "text/plain": [
       "'mouse'"
      ]
     },
     "execution_count": 73,
     "metadata": {},
     "output_type": "execute_result"
    }
   ],
   "source": [
    "# Patrones opcionales \n",
    "my_string = \"I found my mouse with a cat!\"\n",
    "re.search(r\"cat|mouse\", my_string).group()"
   ]
  },
  {
   "cell_type": "code",
   "execution_count": null,
   "metadata": {
    "id": "IgPWbn11WbC6",
    "outputId": "5a4e884d-3bfa-49c5-d1bb-94f8cf77f832"
   },
   "outputs": [
    {
     "data": {
      "text/plain": [
       "'cat'"
      ]
     },
     "execution_count": 74,
     "metadata": {},
     "output_type": "execute_result"
    }
   ],
   "source": [
    "my_string = \"I found my cat with a mouse!\"\n",
    "re.search(r\"cat|mouse\", my_string).group()"
   ]
  },
  {
   "cell_type": "code",
   "execution_count": null,
   "metadata": {
    "id": "okbluE4XWbC6",
    "outputId": "30bfce21-56b6-4870-b8ab-544d0c7dc9a9"
   },
   "outputs": [
    {
     "name": "stdout",
     "output_type": "stream",
     "text": [
      "my long \n",
      " line\n",
      "\n",
      "my long \\n line\n"
     ]
    }
   ],
   "source": [
    "# Texto en raw (crudo) \n",
    "print(\"my long \\n line\")\n",
    "print(\"\")\n",
    "print(r\"my long \\n line\")"
   ]
  },
  {
   "cell_type": "code",
   "execution_count": null,
   "metadata": {
    "id": "UitanlvuWbC6",
    "outputId": "81e18516-deb4-4bb3-a81f-168b32a47756"
   },
   "outputs": [
    {
     "data": {
      "text/plain": [
       "'\\\\n'"
      ]
     },
     "execution_count": 76,
     "metadata": {},
     "output_type": "execute_result"
    }
   ],
   "source": [
    "# Sin definir un argumento opcional y colocando escape\n",
    "my_string = r\"my long * \\n line\"\n",
    "re.search(r\"\\\\n\", my_string).group()"
   ]
  },
  {
   "cell_type": "code",
   "execution_count": null,
   "metadata": {
    "id": "iKRDo6TpWbC6",
    "outputId": "be33f33d-a2fc-4d39-ef23-fa48660d28d5"
   },
   "outputs": [
    {
     "name": "stdout",
     "output_type": "stream",
     "text": [
      "contig02512\tya035_human ame: full= zinc finger protein ensp00000383733\t283\t5\t8.01E-18\t89.20%\n",
      "\n",
      "1920\n",
      "contig10096\tya035_human ame: full= zinc finger protein ensp00000383733\t305\t5\t1.08E-15\t82.60%\n",
      "\n",
      "8219\n",
      "contig11912\tYS060_HUMANRecName: Full=Putative uncharacterized protein LOC100996504\t1117\t1\t1.08E-72\t76.00%\n",
      "\n",
      "9760\n",
      "contig15979\tYD021_HUMANRecName: Full=Putative uncharacterized protein ENSP00000382790\t4491\t3\t0\t68.00%\n",
      "\n",
      "13389\n",
      "4\n"
     ]
    }
   ],
   "source": [
    "# \n",
    "with open(\"Marra2014_BLAST_data.txt\") as f:\n",
    "    # initiate counter for matches\n",
    "    n_lines = 0\n",
    "    counter = 0\n",
    "    n_line = 0\n",
    "    # search for pattern in each line\n",
    "    for line in f:\n",
    "        n_lines += 1\n",
    "        m = re.search(r\"[\\d]{8}\", line)\n",
    "        # only if a match was found, increase counter\n",
    "        # and print the line\n",
    "        n_line += 1 \n",
    "        if m:\n",
    "            counter += 1\n",
    "            print(line[0:150])\n",
    "            print(n_line)\n",
    "            \n",
    "print(counter)"
   ]
  },
  {
   "cell_type": "code",
   "execution_count": null,
   "metadata": {
    "id": "xYPXnPgIWbC7",
    "outputId": "df9f5ccd-6438-4064-9a57-d3be792644db"
   },
   "outputs": [
    {
     "name": "stdout",
     "output_type": "stream",
     "text": [
      "El archivo tiene 25000 líneas\n",
      "Patrón encontrado en 6 líneas\n"
     ]
    }
   ],
   "source": [
    "print(\"El archivo tiene {0} líneas\".format(n_lines))\n",
    "print(\"Patrón encontrado en {0} líneas\".format(counter))"
   ]
  },
  {
   "cell_type": "code",
   "execution_count": null,
   "metadata": {
    "id": "h7EPRLzVWbC7",
    "outputId": "7868cbe6-0365-479b-f72a-4f591329f1d4"
   },
   "outputs": [
    {
     "name": "stdout",
     "output_type": "stream",
     "text": [
      "mhc class ii antigen dqb2 flags\n",
      "mhc class ii antigen dpb1 flags\n",
      "mhc class ii antigen drb1*4 short\n",
      "mhc class i region proline\n",
      "mhc class i region proline\n",
      "mhc\t140\t5\t4\n",
      "mhc\t149\t5\t4\n",
      "mhc\t109\t5\t1\n",
      "mhc\t594\t5\t4\n",
      "mhc class ii antigen dob flags\n",
      "mhc class i antigen cw*8 flags\n",
      "mhc class i antigen b*46 flags\n",
      "mhc class ii regulatory factor rfx1 ame\n",
      "mhc\t129\t5\t5\n",
      "mhc\t166\t5\t1\n",
      "mhc\t249\t5\t9\n",
      "mhc\t138\t5\t6\n",
      "mhc ii\n",
      "mhc ii\n",
      "mhc ii\n",
      "mhc\t246\t5\t2\n",
      "mhc ii\n",
      "mhc class ii transactivator short\n",
      "mhc class ii transactivator short\n",
      "mhc class ii transactivator short\n",
      "mhc class i receptor 2 homolog\t4096\t5\t0\t82\n",
      "mhc class i region proline\n",
      "mhc restricted killing associated ame\n",
      "mhc class ii\n",
      "mhc class ii antigen drb1*1 short\n",
      "mhc ii\n"
     ]
    }
   ],
   "source": [
    "# Además hacer coincidir con el alelo MHC\n",
    "with open(\"Marra2014_BLAST_data.txt\") as f:\n",
    "    for line in f:\n",
    "        m = re.search(r\"mhc[\\s\\w*]+[\\sii\\s]+\\w*\", line)\n",
    "        if m:\n",
    "            print(m.group())\n",
    "\n"
   ]
  },
  {
   "cell_type": "markdown",
   "metadata": {
    "id": "Da4sf1ZAWbC7"
   },
   "source": [
    "Los componentes de la expresión regular:\n",
    "* `mhc` coincidencia literal con los caracteres `mhc`.\n",
    "* `[\\s\\w*]+` coincide con un espacio en lanco, luego cualquier caracter y el sub_patron se repite una o más veces.\n",
    "* `\\*` Coincide literlmente con el asterisco.\n",
    "* `\\w*` coincide con cualquier cantidad de caracteres."
   ]
  },
  {
   "cell_type": "markdown",
   "metadata": {
    "id": "9_08QNRCWbC7"
   },
   "source": [
    "### Funciones adicionales del módulo `re`\n",
    "\n",
    "* re.findall(reg, target_string)\n",
    "* re.finditer(reg, target_string) \n",
    "* re.compile(reg)\n",
    "* re.split(reg, target_string)\n",
    "* re.sub(reg, repl, target_string)"
   ]
  },
  {
   "cell_type": "code",
   "execution_count": null,
   "metadata": {
    "id": "XiGdEarBWbC7",
    "outputId": "9b87c613-7723-4ba7-ab7c-cd9e060433fa"
   },
   "outputs": [
    {
     "name": "stdout",
     "output_type": "stream",
     "text": [
      "Collecting pyfaidx\n",
      "  Downloading pyfaidx-0.6.4.tar.gz (100 kB)\n",
      "Requirement already satisfied: six in c:\\programdata\\anaconda3\\lib\\site-packages (from pyfaidx) (1.16.0)\n",
      "Requirement already satisfied: setuptools>=0.7 in c:\\programdata\\anaconda3\\lib\\site-packages (from pyfaidx) (58.0.4)\n",
      "Building wheels for collected packages: pyfaidx\n",
      "  Building wheel for pyfaidx (setup.py): started\n",
      "  Building wheel for pyfaidx (setup.py): finished with status 'done'\n",
      "  Created wheel for pyfaidx: filename=pyfaidx-0.6.4-py3-none-any.whl size=26559 sha256=0c1c98833bd002106604ecfe178dae7bd5fc9d7cc5a759997d9f97fdfb185498\n",
      "  Stored in directory: c:\\users\\moisesg\\appdata\\local\\pip\\cache\\wheels\\7c\\d2\\81\\90652014b0037f38690f73339f6e4f19039869d5da89e9a8b1\n",
      "Successfully built pyfaidx\n",
      "Installing collected packages: pyfaidx\n",
      "Successfully installed pyfaidx-0.6.4\n"
     ]
    }
   ],
   "source": [
    "!pip install pyfaidx"
   ]
  },
  {
   "cell_type": "code",
   "execution_count": null,
   "metadata": {
    "id": "Yw3pQF3KWbC7"
   },
   "outputs": [],
   "source": [
    "import re\n",
    "import pyfaidx\n",
    "\n",
    "# leer .fasta con pyfaidx.Fasta y lo transforma en diccionario\n",
    "genes = pyfaidx.Fasta(\"Ecoli.fasta\")"
   ]
  },
  {
   "cell_type": "code",
   "execution_count": null,
   "metadata": {
    "id": "7suvfDVAWbC7",
    "outputId": "4cee02fa-5102-4ae4-ed31-efe48cac9ad3"
   },
   "outputs": [
    {
     "data": {
      "text/plain": [
       "['gi|556503834|ref|NC_000913.3|:1978338-2028069',\n",
       " 'gi|556503834|ref|NC_000913.3|:4035299-4037302']"
      ]
     },
     "execution_count": 87,
     "metadata": {},
     "output_type": "execute_result"
    }
   ],
   "source": [
    "# Acceder al listado de claves del diccionario (identificadores de las secuencias) \n",
    "records = list(genes.keys())\n",
    "records\n"
   ]
  },
  {
   "cell_type": "code",
   "execution_count": null,
   "metadata": {
    "id": "OupY39ZMWbC8",
    "outputId": "dd49f101-988a-4704-b6ff-802b4dc65dde"
   },
   "outputs": [
    {
     "data": {
      "text/plain": [
       ">gi|556503834|ref|NC_000913.3|:1978338-2028069:1-49732\n",
       "AATATGTCCTTACAAATAGAAATGGGTCTTTACACTTATCTAAGATTTTTCCTAAATCGACGCAACTGTACTCGTCACTACACGCACATACAACGGAGGGGGGCTGCGATTTTCAATAATGCGTGATGCAGATCACACAAAACACTCAATTACTTAACATAAATGGGTAATGACTCCAACTTATTGATAGTGTTTTATGTTCAGATAATGCCCGATGACTTTGTCATGCAGCTCCACCGATTTTGAGAACGACAGCGACTTCCGTCCCAGCCGTGCCAGGTGCTGCCTCAGATTCAGGTTATGCCGCTCAATTCGCTGCGTATATCGCTTGCTGATTACGTGCAGCTTTCCCTTCAGGCGGGATTCATACAGCGGCCAGCCATCCGTCATCCATATCACCACGTCAAAGGGTGACAGCAGGCTCATAAGACGCCCCAGCGTCGCCATAGTGCGTTCACCGAATACGTGCGCAACAACCGTCTTCCGGAGACTGTCATACGCGTAAAACAGCCAGCGCTGGCGCGATTTAGCCCCGACATAGCCCCACTGTTCGTCCATTTCCGCGCAGACGATGACGTCACTGCCCGGCTGTATGCGCGAGGTTACCGACTGCGGCCTGAGTTTTTTAAGTGACGTAAAATCGTGTTGAGGCCAACGCCCATAATGCGGGCTGTTGCCCGGCATCCAACGCCATTCATGGCCATATCAATGATTTTCTGGTGCGTACCGGGTTGAGAAGCGGTGTAAGTGAACTGCAGTTGCCATGTTTTACGGCAGTGAGAGCAGAGATAGCGCTGATGTCCGGCGGTGCTTTTGCCGTTACGCACCACCCCGTCAGTAGCTGAACAGGAGGGACAGCTGATAGAAACAGAAGCCACTGGAGCACCTCAAAAACACCATCATACACTAAATCAGTAAGTTGGCAGCATCACCCATAAATGTATAAGTCATACTTTTGTTTTGGGTGTATTTCAATCTGTTAAAAAGTTTTTCGCTACGCTAGCAAGCAAAAATGAAACAGGAATAATCGAAATGGGATGTTGCGCACAGTCAAAATAACTCACCGTAAATAATCATCTGCTATAAATAATCACTTTCATGCAATACCAGATAAGCTATTTTTAAACAGACACTTACCGCACAACAAACTAATTAAATACAAAGAAAGGCAACAATCAACTTAATGTTAATGAAATGTTTTACATATATTAACCACTTGTTTAATGCGGAGAATCAGTACACTATTTTCTTATAATTACATTTGAAATTATATGATCACCGGGAGTGATTGATTAATTATCTTTACTAATAATCAGACTAATATTTACCTGTTTGACCGAGTTGGGATTGCGTCGTTTCTCCATTAGGAGTAAAGCTTTAATGTCACCTGAAGTTCACAGAATAAGGAACAGGTTATGAGCTATAGCAATATTCTTGTCGCTGTTGCGGTTACACCGGAAAGTCAGCAACTGCTGGCAAAAGCGGTATCTATCGCCAGGCCAGTAAAGGGACACATCAGTTTAATTACTCTCGCTTCCGACCCGGAAATGTACAATCAATTAGCTGCGCCGATGCTTGAAGATTTACGCAGCGTGATGCATGAAGAAACGCAAAGCTTTCTTGATAAGTTAATTCAGGATGCGGGGTATCCCGTTGACAAGACGTTTATTGCCTACGGTGAGTTAAGCGAACATATTCTGGAAGTATGTCACAAGCATCATTTCGATTTGGTGATTTGCGGTAATCACAATCACAGTTTCTTTTCGCGAGCATCCTGCTCGGCGAAAAGAGTTATTGCCTCAAGTGAGGTCGATGTGCTGTTAGTTCCACTTACGGGAGATTAACCGCTCCTACGCAAGCTTTGGAAAGGTAGCAACTTTATCGCGCTGCTGGCTTTCCGCGCTTCGCGGAACTATCTGCTTTAGGTCGCTAATGAAGCACTCCTGCCAGTGGTTAATATCGTTTTTCACGATAACGTCCAGCATTTCTGCATGACGGGAAATACGTTCCGCCAGCGACATAGTCAATGCACGATCCAGCGCAGCTGCAACTTCGTCACGATCGTAGGGGTTAACAATTAACGCCGACGTTAACTCGTTTGCCGCTCCCGCAAATTGCGAAAGAACAAGAACGCCCGGATTGGCTGGGTCCTGAGCAGCAACATACTCTTTTGCTACCAGGTTCATCCCGTCACGCAGTGGCGTCACTAAGCCCACGTCAGAGTAGCGGAATATTTTCATCAGTAATTTACGGTCAAAATGCTGATTCAAATAATAAAGCGGCGTCCAGCCTAATTGCCCGTATTTACCATTAATTCGTCCAGCTTCATTTTCGAGCTGATGACGAATATCCTGATAGGCTTGCACATCACCACGCGACGTTGGTGCAATCTGGGTATAACGAATTTTACCATGATGCTGCGGATATTTTTCCAGCAACGCTTCATAGGCGAGAAAACGCTCTGGCAAACCTTTGGAATAATCCAGCCGTTCGACAGAAAAGATATTTTGTACGTTTTTCAGTTCCGCTTTAAGTTGCGCCAGTTTTGGCGGCAGTGGCCCGGCAGCCTGTTTGGCTATTTCTTTCGGTTCAATGCCGATCGGGTAGACTTCTGTTCGAAATGCTTTGCCCCAGGCTGTATGGCTTTTTGCGCTACGTGTCGTGACGCGGGTCAGGTTAGAAAGACAATCCAGGAACGCCAGACGATCGTTTTCTGTCTGGAAACCCAGCAAATCATAATCACAAAGCTGTTCAAGCAAGGTGTCATATGTCGGCAGCGCGTTGAAGATTTCCGGTGTCGGGAAAGGAATATGCAGAAAGAAACCAATGCGATTATTCACTCCCCGTTTGCGTAATTCATGCGCAAATGGCAACAGGTGATAATCGTGGATCCAGATAATGTCATCGTCTTGCAACAGCGGCAGTAATTTATCTGCCAGCAACGCATTTACGCGTAGATAGCCGTCCCAGGCAGGACGCTGAAATTGCACCAGATCGAGCCGATAATGAAAAGCGGGCCAGAGAACGGCATTGGAGAATTGGTTGTAGTATTCGTCAAGGTCCTGTTCGCTGAGGTTAAAAGAGGCCCACGTAATGTTACCTTTTTTCACCTTTTTTAGCGGCTGATCCTCATTCCCTGTTTCACCACTCCAGCCAAACCACAGTCCGCCTGCGGCTTTCAGTGCCCCCAGTATGCCAACGGCAAGGCCACCGGCACTGGCGGCGTGCTCGTCTGGTGGTGCAATCCGGTTAGATACTACGACTAAACGACTCATAGTCATCACTCCTGTTATTTTCTCTTTTTTGTTGTAATGCGGTGGTTATCATTTCAAGCCAGCTCCAGACATCCGGCACACCCGCCAGTCGCCATGATGCCTGAGTTGCACCTGTGCCAATTTTTACTGACATTCCGCCCAGTCGGTTAACGACTGCGAAGCCAGATTCATCGGTTAAATCATCGCCCAGAAATACGGGCGTTCGCCCGATAAAGGGAGCTTCCTGCATAAAAGCTGCAATTGCCTCACCTTTACTGGTACCTCTCGGTTTGATCTCGACAACACACTTTCCCTGCTGTAACGCCATTTGTGGCCAGATCTGAGTAATACGTTGCGCTAATGTCATTAATGCGTCTTCATGCTGCGGAGCCTGACGATAATGCAGCGCAAAAGCCATCCCTTTCGCCTCCAGCTCCGCGCCGGGATACTGAGCGATGACTGTATGCAGTTGCACGCTAATATCACGCGCAATCGCATCCGGCAGATGAACGATATGTGTTTTACCATTGATGTCACGGCGCTCCGCCCCATGCACGCCCGCTAACGGGAAGCGATAAGGTTTTGCCAGTGCGTCAAGCTCCACCATTGAGCGCCCTGATATCAATGCCAATGCACCATCACTTGCGGTTGCCAGTAGCTGTAGTCCTTGCAGAATATTGTCAGGCACGACGACCTGATCGGGATGCGGTTTGATTTCCGCCAGCGTTCCATCAAGATCAAAAAACCAGGCATATTTCGCGGATAGTTCAGGGGTTTCGGTTAACGGTTCTGTCACCCGGTTCTCCTCCTTCTCTTTTCTTATTGTGTTGCGCAGAACGCGCTTTACAGACATGTAAGTATAGACAGTGTGACGGGGGTCGCCATTTGCAACGAAGAACAGCCAACCGTTATGGCGGTTGGCTATGGTGGGAAAAAACGCTAAATTGTTGCAGAAAAAAGCATCAGACAGTGCGTTTCGCTTTTTGCTTGTAACGGTCGAAGATCACCGCTGCCAGCAGGATTAAGCCGCGAACCACGTACTGCGCGAAAGGAGAAATATTAAGCAGGTTCATGGCGTTTTCCACGGTGCCTAAAATTAAGATACCCGCCACCACATATGAGATTTTTCCGATGCCACCTTTCAGAGAAACGCCACCTAAAACGCAGGCGGAGATAACAATCAGCTCATAACCAATCGACGTCATTGGCTGCCCACTGGTCATACGTGAAGCCAGAATAATTCCGGCTATCGCTGATACCAGGCCTGAGAGAACAAAGATAATAATTTTGGTGCGAACAACCGGTACACCCGCCAGACGCGCGGCCTCTTCGTTCCCGCCAATCGCCAGGGTGTTACGACCAAAGGTGGTTTTATTCAGCAGCAAACCAAAGATAATCAGACACGCGACGGTGAGCCAGATTGGCGCAGGCAGACCGAACCAGTTGGCGTAACCAAGGGCAAAGAAGCTTTCATCTTCGATACCGACCGCTTTACCGTCTGAAATGATGTACGCCAGACCTCGAACAATCTGCATCGTTGCCAATGTCGTGATCAGAGCATTTATTTTCAGTTTGGCGATAACAAAGCCATTGACCAGGCCACAGAGAACGCCCAGCAACAACCCCGCTGCCACGCCAATCCACAGGCTTTCAGTCAGGTTAATAACCACCGCCGTGGTGACACCCGCACAGGCAATTACGGAGGCGACAGAAAGGTCAAAGTCACCGGAAGCGAGGCAGAACAACATGCCACAAGCCACCATCCCCGACATGGAAATTGCCAGGCCCAACCCTTTCATATTAATGAAGGTGGCAAAATTTGGGACAAAAATGGCACAGGCGATAAAGAGCACCGCAAACACCACCAGCATGCCGTACTGATCCCAGATACGCCCGAAGCTGAATGACGACTTAGGTGCGCCAGACCCCGATGTAGAAACAGAAGACATCATACTCTCCTTACTCAGGCAACAGCCTGGCTGACTTTAGGCATCGCAAGGCTCAGTGCCTGACGCTCATCTGCCTGCTCGTGTAACAATTCACCGGCGATTTCACCTTCCCGCATCACCACAATCCGGTCGGCAACGCCGAGGACTTCAGGTAAGTCGCTGGAGGCAAACAGCACCGCCACGCCCTGCGCCGCCAGCGCATAAATTACGTTATATATTTCGTGCTTAGCGCCAACATCAATGCCGCGCGTAGGTTCATCCAGCAAAATGACCTTCATCTCTTCCGATAACCAGCGGCCCAGAATGGCTTTTTGCTGATTTCCGCCTGAGAGATTCATGATCAGTTGCTCCGCGCCCGGCGTTTTGATGTTGAGCGAACGAATGTGGTGATCGGCATTGTTTTCTTCCCAACCGTTGTTGATTACACAACCGCCGAGCACATGTTTACGTCTGGCACTGATGTTGATATTGTCGCGAACGGAGTGCACGGGAATAATGCCTTCCGCTTTGCGATCTTCCGGGCAGAGCATCATGCCTGCGGCAATGGCGTGGCTCGGTTTACGAATATCGATCGGCTGTTGGTCGATATAAACCTGACCGGCGGTGATTTGCGTCCCGCCAAACATGCCTTTCATTAATTCGCTACGCCCCGCCCCTACCAGACCAAACAGCCCAACAATTTCACCACTGCGAACCGCCAGACTTATTGGCGTACGCACGCCTGGTGCTTTCACAGCATCAAGACGTAGGCGCTCCTCGCCATAACTACGCGGTTGCCAGCCGTAGATATCGCCAATGTCGCGCCCGACCATCGCCTGCACCAGCGCGTCGTGGTCAACCTGCTGCATATCGGTAAAGGTTTTGACATAACGTCCATCTTTAAAGACAGTAATGGCATCGCTGAGGGCAAATATTTCTTCCATACGGTGAGAAACGTATAAGATTACCCGCCCCTCTTTTCGCAGTTCACGAATAACGCGGAAAAGATTGTCGATTTCACGGGCAGAGAGGGAGCTGGTTGGCTCATCAAAGGCGATAATTTTGGCGTTACGCGCCAGCGCTTTGGCGATTTCAACCATCTGCCACTGACCAATGGAGAGATATTTCAGCGGCGTGTCCGGGTCAATATCCATACCAAGATGTTTAAGTTGTAAACCCGCCTCATAATTCAGCAATGAGCGATTCACAATGCCGCCTTTATGCGGCAGCTGGCCGAGATAGATGTTTTCCGCGACGGTCATTTCCGGCACGAGATGCAGTTCCTGGTAAATAATCGCCACGCCCGCGTTAAGTGCTGCGGTCGTGTCGGAAAAGGACATTTCCTGCCCATTAATCACTACAGAACCCGTGGTTGGCGCATAGTTGCCGCTGAGGATTTTTAAGAGAGTTGATTTTCCTGCGCCATTTTCACCCATCAACGCATGAACCTGACCGGCATAGCAGTCAAAACTAATATCCGTCAGCGCCTTAACGCCGGGAAACGTTTTACCGATGCCGCGAAATGAGAGATACGGGGTAGACTGTTGCATAACGTCTCCGTGAATCACTGGTCGTTCACACCCCCTCTGCATCATGCAGAGGGGAATTTTTCCGGCAAATTACTTACCGCCTAAACCTTTTTTCTCCAGTTCTTCTTTAAAGTTGTCACGCGTGATCAGTACCACGTCGGTAACTTCGGTAAATTTTGGCGGTTCAACGTCTTTTGCTACCCAGTTGTAAAGCATTTCGCTGGATTTATAGCCATGTACGTCCGGGCTTGGCAGCAGGGAACCGTAGAAGCCGGTTGCCTGTGCTTTAGACAGTTCGCTCACCGCATCCACACCGTTAATGCCAATGCCGATGATATCGGCCGCTTTAAAGCCCTGACCTTCCGTCGCGCGTACGCCGCCCAGCACGGTGCTGTCGTTCATACCGACGATCAGCCAATGTTTAACTTCCGGATGTTGAACCAGCATTGAGTTGGCAGCGTCAAATGCCCCCGGGATGTCGTTAGATTTGGTAGGTACCTGATAAATTTGTTTTTCCGGGAATCCGGCCGCTTTCAGCGCATCCATAGATCCCGTAGTACGGCGGCGGGCGGTATCCAGTTCGTTGGCGGTAATCGCCATCACCGCGCTTTCTTTGACATCCCAGCCACGTTTCTGCATCTCTTTATACAGTTCCTGGCCCTGACGTTCGCCAATTTTAGTCGCCGCCATCATCACCAGCGGAACGGTATCCATTGGCTTACCTTTGGCGTTAACAAACTGGTCATCCACGGCAATGACTTTCATATCGTAGCCACGCGCTTTCGCGACGATGGCAGAGCCGAGTTTGGGGTCCGGAGTACAAATAACGAAACCTTTTGCGCCACTGGCAGCCAGGCTGTCGATCGCGTTCAATGTTTTTTCGCCATCCGGCACGGCAATCTTAATAACCTCAAACCCTAAATCCTTCCCGGCTTTATCGGCAAACTTCCATTCGGTCTGGAACCACGGCTCTTCCGGTTGCTTCACCAGAAAACCGAGCTTCAGGTTCTCCGCCATAGCGGATTGTGACATAACGGCTGCCAGACCAATGGCTGCCAGGGCTTTAGTAAATTTGTGCATGGTTCTCTCCAGCTTTAGTGTCGTTTTGTGTAGGGCAAAAACGAATGACATTCGTTAAATTAATCGGAAAACAAAGCATTACCTTTTAACTAAAAGATAAGTGACTGTGTTGACATAGTTTTAGCGAGAAATTAATTCTCCATAGGAGAGCAATATCACATCGCAGAATTACAGTGAGAACGTGCATAAATTTAGCGGGAAAAGACATAAGGGAAAGCCAATTTGTCAGACAAATTGTCGAATGCACAGCAGATTAATCCATAAGATTAGCCTGGAAATCCTTGTTGTCTTTGGTACCCATGCGGGATGTCTTCTTTTTAACCAGTCAATAGGCCGCATTACCTGGCGTTGAGTTTTTGAAATGGTGTAATAACCGCAACTCAAAGATGTGGAAAATGCACGTCATTCATTTCGTCATTAATTATCACTGTGCTCATTAATTAACAGAACACGTATAATGAGAGCCATCTCGCAAAAATGAAAAAACGTTTTATAAAATCATCACTTCATCATGAATTCAAATTCATTGATTAATATCAACAAGATACAAAAAGCACTATCATTAAAATTCATTGCAGTTACATTGATTTCATCAATGAAATGTAAAAATATATAAACTTGATGATTTAAGCATTTTCTTATACCCGTTCAGACGTTATTCTTATTTCAGATCATCGTCAGAATTGACTCCACGATCACATTTCGGACCGGCAGAAAGGAATTATTCTGCAAACAGTAATTATGGTGTTTTGATTTATCTTGCACCTCTCCACTTCTGGATATAAGGATATTAGGTATGGCAACCGCTGGAATGCTTCTCAAACTCAACTCTCAAATGAACCGCGAGTTTTACGCATCCAATCTCTACCTTCACCTGAGTAACTGGTGTTCTGAACAGAGTCTGAACGGCACCGCCACTTTCCTTCGCGCCCAGGCACAGAGTAATGTGACCCAAATGATGCGCATGTTTAACTTTATGAAGAGTGTCGGCGCTACCCCCATCGTTAAAGCCATTGATGTTCCCGGTGAAAAACTGAACTCTCTGGAAGAACTGTTCCAAAAAACGATGGAAGAATACGAGCAACGTTCTAGTACGTTGGCACAGTTAGCCGATGAAGCGAAAGAACTGAATGATGATTCAACCGTCAATTTCCTGCGCGATCTGGAAAAAGAACAGCAGCATGATGGTCTGTTGCTGCAAACCATTCTTGATGAAGTGCGCAGTGCGAAACTTGCGGGTATGTGCCCTGTGCAGACCGACCAACATGTTCTGAATGTCGTGTCACACCAGCTGCATTGATCATCATCGGCGCTAATGCATTGCGCCGATGAAGGTTTTGAGAAACCGCTGCCTCATCTGTTTGAAGCAGCGGTTTTTTTAATGGGATTCACCCTGTGGGGTAAACTTGAGTTCAATAAGCGCGATGGCTTTTTGGATTGCCCGCATGGTGACCGGGTCTGCGGCGGCGGGATGGTTAGTAAAGTCGATATTCTTCAGCTGACTGGACATTTTTTCACGAACTTCAACGGGCGCGATTACATCGAGAACATCCAGAATTTGTTTGATAACCAACTGGCAAGCAACCACATCAGAAACCAATTCCTGATCGGCATTCAGCGGCTGGGACATCGTAAACTCCTGATAGCATTTTGAAAGCCGTTATAGTAGCGACTTCACATCTTCAGCGATAGTCACATCCACCGTCATCAGGACACAAAAAAACCTGCCGGAGCAGGTTTTTTGTTATCGGAACATATTGCCTGGCGGTACGTCTTTGAACGTCTTGCAATAGTTATTGAACATACTTTTCAGGATTTTGCGCAGTTTCATCGCGGCACTCCGACCATTTGTTATACAGGTGTTATTGTCTTTGCGCTTATAATATGACAACCATCACAAAAATCAATCTTTATGTGATACAAATCACATAAATACCCCTTTAATGTTATAAAAATGATAATCAAAAAACAGCCCCCCTATTTCTGACACCTACAGATGGCAAGAAATAGCGCCTGCCAGGCGTCTTTTCCGGCCATTGTCGCAGCACTGTAACGCGTAAAATAGTGCTTTCTCTTACTCTTCTGGCTGGACCATGAGACTTCTGATTCTGACTCTTTCATTAATAACGCTGGCGGGGTGTACGGTTACTCGCCAAGCCCATGTGAGCGAAGTTGACGCGGCAACAGGTATTGTACGGTTAGTTTATGACCAGGCTTTTTTGCAGCATGCCCATACCGATCGTTATGTCAGTCGCGGGATCGCCGATCGCGCATGCCAGCAGGAAGGCTATACCCACGCGGTCCCCTTTGGTCAGCCAGTAGGCAACTGTAGCCTTTTTGCGGGTTCCTTATGTTTGAATACGGAATTCACTTTGTCATATCAGTGCCATCATTCCGCCTTCCCTGTCTTTCTCTAAATATTTTAATCAGCGAGGGGATCTTCGCTGATTAAAGAAATAGCGGTAATGCGTTTTATTCCCATTCGTATTTTTAATAATTGAAGTTTATATTTTACCTTTTGCAAATAATAAAATAACAAATTATAGTGACGCCACAGCAACAAATATAACCTTTGTGGAGCACTATCATGCTGAAACCAGAAATGATTGAAAAACTTAATGAGCAGATGAACCTGGAACTGTACTCTTCACTGCTTTATCAGCAAATGAGCGCCTGGTGCAGCTATCATACCTTCGAAGGTGCTGCCGCGTTCCTGCGCCGTCACGCCCAGGAAGAGATGACGCATATGCAGCGTCTGTTTGATTACCTGACTGATACCGGCAATTTACCGCGTATTAATACCGTTGAATCTCCGTTTGCTGAATATTCCTCACTTGATGAATTATTCCAGGAAACCTATAAACACGAACAATTAATCACCCAGAAAATTAACGAACTGGCTCATGCTGCAATGACCAATCAGGACTACCCAACATTTAATTTCCTGCAATGGTATGTTTCTGAGCAGCATGAAGAAGAGAAACTGTTCAAATCGATTATTGATAAATTAAGCCTGGCAGGCAAAAGCGGCGAAGGTCTGTATTTTATCGACAAAGAACTCTCTACCCTCGACACACAAAACTAATGCTCTCCGGCGGCAGGTTTACTGCCGCCGTTTCAAATCAGTGACGGCAAATCTTACTCTGATCGGTCGAAAAACCGTCTTTCGAAGGTATAAATTTGCCTTTTGCTGCCAGAAACGCTACCAGCTCTCCCGCTGTCATCCCTTCTGCCGAGCAGGTGTGAAAACGTGCCTGTTCACCAAAACGCGCTTTAATCGCAGCTTCCAGACTGGCATGCGTATATTGCTCGCCTGATTCAATCATCATATTTAACACTTCATGACCGTGAATAGAGTCCATCGTCCCTCCTCAAAAAAAGCCTAGCGTAGCGATTGCCGCTTATGAAGACTTTGCGCCAGCGCAGGACTGAATGCTTTTTATTGTACATTTATATTTACACCATATGTAACGTCGGTTTGACGAAGCAGCCGTTATGCCTTAACCTGCGCCGCAGATATCACTCATAAAGATCGTCAGGACAGAAGAAAGCGTGAAAAACAGAACCCTGGGAAGTGTTTTTATCGTGGCGGGAACCACAATTGGCGCAGGCATGCTGGCAATGCCGCTGGCTGCGGCCGGTGTTGGTTTTAGCGTTACGTTAATCTTGTTGATTGGGCTTTGGGCGTTGATGTGCTACACGGCGCTATTACTGCTGGAGGTGTACCAGCATGTTCCGGCAGATACCGGTCTGGGCACGCTGGCAAAACGCTATCTGGGACGCTACGGTCAATGGCTGACGGGCTTCAGTATGATGTTCTTAATGTATGCTCTGACTGCGGCATACATCAGCGGTGCCGGTGAATTGTTGGCCTCCAGCATCAGCGACTGGACAGGTATTTCTATGTCGGCAACCGCTGGCGTGCTGTTGTTCACTTTTGTTGCCGGTGGCGTGGTTTGTGTCGGAACTTCACTGGTCGATTTATTTAACCGTTTTCTGTTCAGCGCCAAGATTATTTTTCTGGTGGTAATGCTGGTACTACTGCTGCCGCATATTCACAAAGTGAATCTTTTAACCCTGCCGTTGCAACAGGGGCTGGCTCTGTCTGCAATCCCGGTGATTTTTACGTCGTTTGGTTTTCACGGTAGCGTGCCGAGTATTGTCAGCTATATGGATGGCAACATTCGTAAGCTACGCTGGGTGTTTATAATCGGTAGTGCGATCCCCCTGGTGGCATATATTTTCTGGCAGGTGGCGACGCTTGGCAGCATTGATTCAACAACCTTTATGGGATTGCTGGCTAATCATGCTGGATTAAACGGGCTGTTACAGGCGTTACGCGAAATGGTGGCCTCTCCGCATGTTGAGCTGGCAGTGCATTTATTTGCTGATTTAGCCCTCGCCACGTCATTTCTCGGCGTTGCGTTAGGCTTATTTGATTATCTGGCTGATTTATTTCAGCGTTCAAATACCGTTGGTGGACGGTTGCAAACTGGTGCAATTACGTTTCTGCCGCCGTTGGCGTTTGCACTGTTTTATCCACGAGGATTTGTGATGGCGCTGGGTTACGCCGGTGTGGCGCTGGCGGTACTGGCATTGATTATCCCTTCGCTGTTGACCTGGCAAAGCAGAAAGCACAATCCTCAGGCGGGTTACCGGGTCAAAGGTGGTCGTCCGGCGCTGGTGGTGGTGTTTCTCTGTGGTATTGCTGTGATTGGCGTGCAATTTTTGATTGCGGCAGGGTTGTTACCAGAAGTGGGGTGATCAGATAGCCTCAAATTCCTTATTGGGTGCCAGAATTAACGCTGACACCCAATTTGGCCTCTTAATGCAGGCAGCACTGCTTAAATTTCTTACCACTACCGCACGGGCAAGGATCGTTACGCCCCGGTTTCTCTTCTGCTTTGATCGGTTGCTGAACAGCTTTTTCCTGCGGATGCGCCATCCAGTACGCATGTAGATCAAGCGCCGCCAGTCGAATGGCATCTACGCTCTCTTCAAACGCTTCTGGCGACATCTTTTCTACCCGCTCGAAGTTTTCCTCAGTACCGTGCAGCGCAATCGCCTCCAGCGCTGGTTTTAACGAATCGGGCAACGTTGACCAGTCAGAAAGTGCCACGCCCCGCATATAGCCAAAGCACCACTCCTCAACAATCGTCAGCTCGCTGCCATCAACTTCTCGCAAGCCGAATAACGGCTCAAACTGCTCCGGGAATTCGTTCAGACGCTCTGCGGTATCGGCCATATGTTGAAAAGCCAGATTCATAAAGCGCGTCATCTCTTTCTCTGACGCCCAGCGCGGCACATAGTCAGCCCCACCCCACACGGCAACCAGCCACTGTTCCGGTTCAATCTCTTGCGGAGAACTCAACACCGCCGTCAATAAACCGTCCAGCTCCGCCACATCAAGGATGGCGTGGTCAGTGTTGTATTTGGTCAGAATATCGTCCAGCCATTCCAACTCACTTTCGTTTAACGGTCCCGTTTTCATACGCTTTTCCTTGTGGATCTCAACTCGCCAGCACCTATCTTACATGCCGGTCCGTATCAGAGATACTTTTTGAGTGGCTTTGCTGGTGATTAAAAATTAAGGAGGGTGTAACGACAAGTTGCAGGCACAAAAAAACCACCCGAAGGTGGTTTCACGACACTGCTTATTGCTTTGATTTTATTCTTATCTTTCCCATGGTACCCGGAGCGGGACTTGAACCCGCACAGCGCGAACGCCGAGGGATTTTAAATCCCTTGTGTCTACCGATTCCACCATCCGGGCTCGGGAAGAAAGTGGAGGCGCGTTCCGGAGTCGAACCGGACTAGACGGATTTGCAATCCGCTACATAACCGCTTTGTTAACGCGCCAAATTCTTCAGGCCTTTCAGCCAGACATCCGCTTGACGCCGATGTCTTTTAAACTGGAGCGGGAAACGAGACTCGAACTCGCGACCCCGACCTTGGCAAGGTCGTGCTCTACCAACTGAGCTATTCCCGCATTCATCAAGCAATCAGTTAATCACTTGATTTTATTATCGTCTGGCAATCAGTGCCGCCGTTCGATGCGTTGCATTCTACTTACCTGGCGCGATGAGTCAACGATATTTTTCACCACTTTTGATCGTTTGCTGAAAATTACGCCGAAACGATCACTGATCAAGCAAATCTGCACGCGCAGCGCTCAAATATTGCAACATTGACCACAGAGTCAGTACCGCAGCCACAAAGAAAAGTGCAATACCGGCGTACTCAACCCAAATGTTCGGACGCCACAGCAGCCATGCCAACGCCACCATCTGGGCAGTGGTTTTCACTTTCCCAATCCAGGAGACGGCCACGCTACTGCGTTTACCCAACTCCGCCATCCATTCGCGTAGCGCAGAAATAATAATTTCACGGGCGATCATCGTTGCCGCCGGTAATGTCACCCACCAGCTGTGATAATGCTCGGTTACCAGCACCATGGCGATAGCCACGAGAACTTTATCTGCCACAGGGTCAAGGAAAGCACCAAACCGGGTACTCTGGTTCCAGCGGCGTGCCAGAAAACCATCGAACCAGTCAGTCACCGCCGCGACGCAGAAAATGAGCGCGGCGGCAAACGGCGACCAGGTGACAGGCAGATAAAAGACCAATACAAAGAATGGGATAAGGATGACACGGAACAGTGTAAGCAACGTAGGGATATTAAATTGCATAATGACGGGTAACTATCTGTTGTCAGTAAGATTACCCCTATGTTGCTACAGAGACATCAATGTTTCAACGACCAGAAGATCTTTTCTGCCAGACCTTGCGAAATACCCGGCACTTTTGCAATTTCCTCGACGCTGGCGTTACGTAAACCTTGCAAACCGCCCATATATTTCAACAACATTTGCCGACGTTTTGGCCCGACGCCTTCAATGGTTTCCAGGGAACTGGTATTTTTGACCTTCGCCCGTTTTTTACGGTGCCCGCCAATCGCGTGATCATGTGATTCATCGCGAATATGCTGGATAACATGCAGCGCGGGTGAATCTGGCGGCAAACTAAATCCCTCACCTTCCGGCTCAAAGAACAGCGTTTCCAGTCCAGCCTTACGATCTGCTCCTTTGGCAACGCCAAGTAGCAGCGGATGATTTTTATCCCATGAGACATCCAGTTCGGCGAAGACATTTTTCGCCTGCGCAAGCTGGCCTTTGCCGCCGTCGATAAGGATCACATCCGGGATCTTACTGTCGTCAATGGCTTTACCATAACGCCGACGCAGCACCTGATTCATCGCCGCATAATCATCGCCCGGCGTGATGCCTGTAATGTTATAGCGCCGATACTCCGCACGCAGCGGGCCGTTAGCATCAAACACCACACAGGAAGCGACGGTTTGTTCGCCCATGGTATGGCTGATGTCAAAGCACTCCATCCGCTTCACTTCCGGCAATTTCAACACGCTGGCAAGCGCGGTCAGTCGCTGGTGAACGGTAGATTGCTGCGAAAGTTTGCTGGTTAAGGCCGTCGCCGCATTGGTGCGCGCGAGTTTCAGATAACGCGCCCTATCGCCGCGAGGTTTGGTTTGAACATTAATCTTGCGTCCCGCCAGTTCTGAAAGGGAATCGGCGAGCAGCGTTTTATCGCTAAGATTAAAATCGAGCAGGATCTCACCCGGTAAGGTGCGCATCTGGCTGCCTTGTAAATAGAACTGGCCTACGAAGGTTTCTACCACCTCGCTCAGTTCCGTACCGCCAGGCACTTTCGGGAAATAGCTGCGGCTGCCGAGCACTTTGCCCTGACGAATGAACAATACGTGGACACAAGCCATGCCCGCATCGAACGCCACACCAATAACGTCGAGGTCGTCGCCGGTATTGGAAACGAATTGTTTTTCGGTGACGCGTCGCACCGCCTGAATTTGGTCGCGAATACGTGCAGCTTCTTCAAACTCCAGATTCTGGCTGGCAGTTTCCATACGACTAATGAGTTGCGTAAGCACCTGATCATCTTTGCCAGACAAAAACAGGCGCACATACTCGACCTGCTGAGCGTATTCTTCTTCACTCACCAGTCCTTCAACGCACGGTCCCAGACAGCGCCCTATCTGGTATTGCAGACACGGACGCGAGCGATTGCGATAAACACTATTTTCGCACTGGCGAATGGGGAAAATCTTTTGCAGTAGCGCCAGTGTTTCACGTACGGCATAGCCATTCGGGAACGGGCCGAAATATTCACCTTTGGCATGCTTCGCACCACGATGCATCGCCAGACGCGGGTGGGTATCACCACTCAGGAAGATAAAAGGATATGATTTATCATCGCGTAGCAAAACGTTGTAACGCGGCTGATAGAGTTTGATGTAGTTGTGTTCCAGCAACAGCGCTTCGGTTTCTGTGTGAGTAACCGTTACATCAATTTGCTGGATCTGGGCGACCAGCGCTTCGGTTTTGCGCGAAGCGAGGTTGCTACGGAAATAGCTGGAAAGCCGTTTTTTCAGGTCTTTCGCTTTGCCGACATAGATAACCGTACCACCAGCATCGTACATGCGATAAACGCCTGGCTGGCTGGTTACGGTTTTTAAAAACGCTTTTGCGTCAAACTGATCACTCACTGACTTGATAATGTCTCCGCATTACACAGACCATGGCGAATTGCCAGGTGAGTCAGCTCAACATCGCCATGAATGTTTAGTTTACTGAACATACGATAGCGGTAGCTGTTCACCGTTTTCGGACTGAGATTGAGCTGTTCTGAGATCTCATTGACCTTCTGGCCCTTGGTGATCATCAGCATAATCTGCAATTCACGTTCAGACAAACTGGCAAATGGGCTTTCTGTTTTTTCTGGTTCGATCTGGCTTAACGCCATTTGTTGAGCGATGTCAGAAGCAATGTAACGCTGCCCTGAATAGACAGAACGAATCGCACTCACGACTTCCTGCGGAGCCGCGCCTTTGCTGAGGTAGCCCGCAGCACCGGCCTGCATGACTTTCGCTGGTAAAGGGTTTTCTGTATGGACGGTAAGCATGATGATTTTGACATCAGCTGTGGAACGCGCGATTTTACGCGTCGCCTCAAGACCGCCAATGCCCGGCATACTCATGTCCATTAGCACCACGTCAACGGCATTTGTCCGGCACCACTTAACGGCGTCTTCACCGCACGATGCCTCACCGACGACTTTTATACCCTTTATATCTTCCAGAATGCGTCGTATCCCTGCGCGCACCAGTTCGTGGTCATCAACAAGTAGAACGTTGATCAAAGGAATATCTCCAGAAATAGGGATAACGCTACTGATAGTTAGTCATTCGTATATTAGCGGTTTTTATTGCAACTTTGAAACGTTAAAAATGGTGGGTATTCGATTTTTCTCTCGTTTTTGTCAATTCGATTGTCCACAGTTATGGTCACGCCCGTCACCAACGGCTTACCGGATCGTTTCACAGTAAGCCCTACGATGAAATGTGACAAAAATTGACTTTATTCAGCAAAAATGAAAATCAGCCCGCTGAATATGTAACATTAATTAACCCGAACAATACGGGCAAAAAACATTCATGATAAAAATATTTATTGGTCATTATATTAACGTATTTTATAGCACTGCCGATATCACGCTCAAAAAACAACCACTGCTATTTTTAGCAAAGCTTATGGTATACTCCGCCGCCTTAACATTTTTCACCGCAAATTTTCATTGCAACATGACGAGGAAAATAAATGAGTACGCCTGATTTTTCTACTGCCGAGAATAATCAAGAACTGGCAAATGAAGTCTCCTGCCTGAAAGCGATGCTGACGCTGATGCTGCAGGCGATGGGACAAGCTGACGCGGGCCGCGTGATGTTAAAGATGGAAAAACAGCTTGCGCTGATCGAAGACGAAACCCAGGCTGCAGTATTTTCCAAAACGGTTAAGCAAATTAAACAAGCCTACCGTCAGTAATATAAAACCGGCTGATAGCGTGCCTTTCAGCCGGTTTTTGCATCTGGCACGCAGGACAGAAAAGAGATCAAATTAAGCCAGTAGCGGCCGCGTAACAGGCAACCTGGGTCTTATTTGGTGCATTAATTTTTTTCTGCATGTTTTTCTGGTGGAAATTGACCGTATTCTCAGAGATTGACAAAATCATCGCTATCTCTGCTGATGTTTTCCCTTCCGCCGTCCACCTCAGAATTTCTTTTTCGCGCTTGCTGAAATTCATCTCTGGCGTCATCACTATTTCATCATTTAAACGCATCAGAGCCATCAGACTTTCGCGCACCAGTAACTGCATTTTTAATTGCAGTTCATCACTAAGAATGGGTATTTCGCGCGCGCTGCAACGGGAAAAGGACAAAAAGCCCAGCGCCCGGTTTGGCAGCATTAAATACTGAGTGACACCGCGGCGTAAACCATGTGCGCGCGCGGCTTCCCATAACGGCTGTGCTTCGCTGAATAAGTCATCATTCCACATTAAATGGCCCTGACTAAAGTTTTCAGGGTTCAGCACCGGATCAATTGCGAGAAAGTTTTTTGCCTGATAATAACTAACCCACGCCTCAGGGTAATTGGTGTAAAAAGCCACTTTAGGTCGAGTGAATGGTACCGGGTGGCGGACACATAACGAATAGTAATCGTACTCCAGCTGCTGAGCCTGAAGCTCAATTTCATGGTAGACCTCTTCTGCGGTCTCCATCCTCTGAAAACGCAACAGCATCGTGCGACGCCAGCTGAAAAAATCCTTATCCTGCATAGTAAACCGCAACGCCCCTGAGAGTGAGTATCATTTATAATGATAATTCAAACTATCACATAAATAAGATTTATATATAATTTATATTATTCAGGCAATGAATTACTTTTGCAAGCCATCGCATTCTCTTATGTTATTAATGAGTTATGCTGATTTGTTAAGCAGTTTTATCAGGCTTGAAATGGCGTCCAGCCCCGACAGGTGAATCGTCGGGGCTGATTTTTTCTTATTATTGCAGCAGAAACTTCTCGAGGAACTGGCGGGTGCGAGGCTGCTCGGGGTCGGCAAATAACGCTTTTGCGGCCCCCTGCTCGACTATCCGCCCCTGGTCCATAAAGATCGCCCGGTCCGCAACATCCCGGGCAAAGCTCATTTCGTGCGTCACAATCACCATCGTGCGCTTTTCCTGCGCCAGCTGACGGATGGTGTTCAGGACTTCACCCACCAGCTCTGGATCCAGCGCTGACGTTGGCTCGTCAAACAAAATCACCTCAGGACGCATTGCCAGCGCACGCGCAATCGCAACACGCTGCTGTTGACCGCCAGACAAACGACGTGGATAGCTGGTTTCTTTACCTGCCAGCCCAACTTTTGCCAGCAGCTCGCGAGCGCGCGCCGTGGCCTCTTCTTTCGGTTCACCTTTGACGATCACCGGCCCTTCAATAATGTTCTCCAGCACCGTACGATGCGGAAACAAATTAAAGTTCTGGAAGACAAACCCGACGTGCTGACGCAACTGGCGAATCAGAGATTTTTGCTGACTTAATGAACGTGCAGTATCAATAGTGATATCGCCAACGGTGATCGTTCCCGCTTCGGGTTGTTCCAGCAGATTTATGCTGCGTAGCAACGTGGTTTTGCCGGAACCACTCGGACCGATAATTGCCACCACTTCGCCAGGCTTTACCTCAAGGTCGATACCGTGCAGCACCGTCTGACCGTGGAATTTTTTCACCAGGTTCTTAACTTCAATGGCACTCATTTTGGTTCTCTCTCCTGGCGATTAAGTTGATTCTCAAAATGGTTCTGCAACGTCGATAACACAGTCGCCATGATCCAGTAGATGAGCGAAGCCGCCAGATACATGGTGAACACCTCCAGCGTACGCGAGGTAATCAACTGCGCCTGACGGAACAGCTCCGGCACCTGGATTGTCGCGGCCAGCGACGTATCTTTTACCAGGCTAATAAAGCTGTTCGACAGCGGCGGCAACGCCACACGCGCCGCCTGTGGCAAAATCGCGCGACGCATGGTCTGCCACGGCGTCATACCAATACTGGCTGCCGCTTCCCACTGACCTTTATCAATAGAAGAAATGGCGGCGCGCAGCGTTTCGGCAGCATAGGCGGCAGTGTTCAACGACAGACCAATCATTGCTGACGGAATGGGATCTAATTCGATACCAAACTGCGGCAGGCCGTAATAGATCATAAACAGTTGTGCGATGAGCGGCGTACCACGAAAAATAGAGATATAAAAACGCGCCAGCCAGCGCACGGGCCAGATTGGCGACAGACGCATCAGCGCGAGAATAAACCCGAGCAGTAAGCCAAAAAACATGCCGCCGATACTGAGTTGCAGCGTATACCCAGCCCCTTTCAGCAGGAACGGCAAGGAATCAATAACCAGTTGTATACTTTCTTGCATGAGCGTTTCCGGAGCTAAACGTGGGGATGATAGGCGAACAGCGCAGGCGCACCGCCGGTATGAATAAACAGAATCGGCCCTTCATCTTTGAAGCGTTTCTGACTGATACCGTCAATCAGCCCCGCCATCGCTTTTCCGGTATACACAGGATCAAGCAGAATGCCTTCCAGCCGCGCCAGCAATTTCACTGCTTCCATGCCTTCGTCGTTCGGCACGCCGTAGCCAGGTGCAAAATAGTCATCCCAGAGTAAAATTTCCGCTGATGCGGTCAGCTCCAGTTCTTTCGCAATCGCCTGTTGTAGGTTAACCACTTTCGGCAATTGATCGGCAACGGAACGCGACACGGTCACGCCAATCAGTTCGCTTTCAGGCATCAGGTGTTCCAGCCCAACAGCCAGTCCGGCGTGAGTTCCGGCACTGCCCGATGCGACTACCACCGATGAAATATTAACCGCCCCTTCACACTGTTGCGCGATTTCCAGCGCACTCTCCACATAACCTAGCGCGCCAAGAGCATTAGAACCGCCAACCGGAATGACATACGGGCGAAAGCCTTGTGCTTCGACTCGCGTCGCCAGCTCTTCCAGTTGGGCATTGGGATCGGTCAGTGCGTCGCACATTTCAATCTGGGTATTGAACAGATCCAGCAACAAGCGATTGCCGTTGGTTAAATAGTTTTCTGCGGTTGTGCCAATAGGATTTTCCAGCAGCGCCACGCAGTGCAGACCGAGTTTGGCAGCGACTGCGGCAGTCTGCCGCACATGGTTAGACTGGATCGCCCCGGCAGTAATCAGCGTATCGGCACCTTCACGCAGAGCATCTGCCGCGAGAAATTCCAGCTTACGTAATTTATTGCCGCCCATTGCCATGGGGGTGACGTCATCCCGTTTGATGAAAATTTCCCGTCCTAGATAATCAGAAAAGCGCGGCAGATATTCGAGCGGCGTTGGCGCGCCGATAAACTCCAGCCGTGGAAAACGGGTTAAATTATGCAGTGGCATAACAGCCTCCGATGTGTGTTGTTGTGATTTTCTTATTATGCACGCTGAAAACGCGTAAATAAAAAAGGCGCTAGTGAAAGCGCCCTTTTTTGTCATTATGCTGATTATTTGGTCACATCAGCACCAAACCATTTTTCGGAAAGGGCTTGCAGAGTGCCATCTTTTTGCATTTCCGCAATTGCATCATTCACTGCTTTCAGCAGGTCCTCATTTCCTTTACGCAGCGCCACGCCAGACTCCTGACGGGAGAATGCTTCACCGGTTACTGCCAGCGTATCGTTGGTTTTCTTCACCAGATCCAGCGCCGCCAGACGATCAACGAGGATCGCATCGATACGCCCTACGCGCAGATCCTGATATTTGGTCGGGTCATCATCATAGGTACGCACATCGACGCCCTGAACATTCTGCCGCAGCCACTCTTCATAGTTGGTGCCCAGACCGACCCCCACTTTTTTGCCTTTCAGATCATCGGCTGTTTTAATGGTGCCTTCGTTACCTTTTTTCACCAGCGCCTGAATACCAGAAATGGTGTACGGGGTTGAGAAATCGTATTTTTTCTTGCGCTCATCAGAAATGGTGACCTGATTAATCACCACATCAATACGTTTAGAGTCCAGCGACGCCAGCATACCGTCCCATTTGGTCGGTTTTAGTGACGCCTCAACGCCAAGATGTTTTGCCAGCTGTTGGGCAAATTCCACTTCAAAACCGGTTAATTTGCCGTCATCTCCCTGAAAACTGAACGGCGGATAAGTTCCTTCCAGCCCTACCAGCAGCGTGCCGCGCTCTTTAACTTTATTAAGCAGACCTTCATCTGCAAAACTTTTAACGCTCATGCCCGCAACCAGCGCCACGGCCATCACACCCATCAATGCCTGACGTCCCAGATGTGCTAATTTCATATTCACCCCGAATGTTGTTATGTCTGTTTGCAGTGTAGAGCCATTGTTTGTAAACACAAAAACAACTCCGCTACATCTTATTCTTATTTAATATATATCAGAAGAAGGCAGGCTGGAGGATTTCTGCACAAGTCTGGTACAGGTTTGGCGCTGATAGTGTTGATACTTCCGTAACGCGATGCGGTAATTGTTGGTGCTGGTGGTGGGCAGCCACGGGGCGAGGATTTCATCAAGGAAACCGTCCTGCAGCTGATCGAGGGAAATATTTTGCTCGTGTAGATGATTCCCCAAACGGCGCAAACGAACGACATATTCACGCACCGTACCTGGGCTCATTTCAGTTTGCTCAAAAAGAAATTGCTTAAAGCCGATAATATCGAAAAAATCACTCTGCGTTTTGCAATGTAAATCACCGCAAAATCGGCACAATGCCGCCCATGATTTTTGTTCCGTTTGCCAGCCATTTTCATCAAGCAGCGTGTCCAGGCGGGAAATCTCGATTTTATTCACTATTTTGCCGTCGCGAACTAAGGTAATGCGATCGAGTAATTTACGGCAATGCGCGCAATGGGTCTGGCTGTGTTTAAAGTCTTTAAGATAGCGGCTTAATGGCCGTCTTTTCAGGTGCTGCACCATCATTAAGAACTCCTGGTAGTCAAAGTTAAAGTGCGGCATTTACTGACGTTATAACTTACCCAGTTTAGTGCGTAACCGTTTAATAGCCTGGCTGTGTAACTGACTGACCCGCGATTCCCCGACCTCCAGCACCGCGCCAATCTCTTTGAGATTCAGCTCTTCCTGGTAATAGAGGGTTAATACCAGTTTTTCGCGCTCCGGCAACGTTTCGATGGCTTCCATCACCCGCTGGCGCAGATTACTGTCCAGTAGTTGTTGTAGCGGGTTTTCTCGCTGATGATCATCAGTAACCAGTTCGATGCTATCGCCGTGCTCTTCGCGCCACTCATCGTAGGAGAAGAGCTGGCTGTTATTGGTGTCGAGCAACATTTGGCGATAATCGGCAATATCGATCCCTAAACGTTCCGCTACCTCAGTTTCCGTGGCGTTGCGGCCAAGTTCCTGCTCCAGTTGCCCTATTGCCTGTGCCACTTCACGCGCGTTGCGTCGCACGCTGCGCGGCACCCAGTCACGGCTGCGAAGTTCATCCAGCATAGCGCCACGGATACGCTGCACTGCGTAAGTTGTAAATGCCGTTCCTTGTAGGGCGTCATAGCGTTCGACGGCATTAAGTAACCCAATGCCGCCCGCCTGTAGCAGATCGTCAAGTTCCACGCTCGCGGGCAGTCGAACCTGCAGGCGCAATGCTTCGTGACGCACCAGCGGGACATAACGCTGCCACAGCGAGTGTTTATCCATTACACCTTCAGCGGTATAGAGTGAATTCACGATAAACAGCCCTGCGTTATATGAGTTATCGGCATGATTATCCGTTTCTGCAGGGTTTTTAATCGGACGATTAGTGGGTGAAATGAGGGGTTATTTGGGGGTTACAGGTAAATTCCAGGCAGAAAAAAACCCCGCCGGTGGCGGGGAAGCACGTTGCTGACAAATTGCGCTTTATGTTGCCGGATGCGGCGTAAACGCCTTATCCGGCCTACAAAAATGTGCAAATTCAATAAATTGCAATTCAACTTGTAGGCCTGATAAGCGCAGCGCATCAGGCAATTTGGCGTTGCCGTCAGTCTCAGTTAATCAGGTTACAACGATTAACCCTGCAGCAGAGACAGAACCTGCTGCGGTACCTGGTTAGCTTTTGCCAACACGGAGTTACCGGCCTGCTGGATGATCTGCGCTTTCGACATATTGGACACTTCGGTCGCATAGTCGGCGTCCTGAATACGGGACTGCGCTTCAGACAGGTTGGTAGTGGTGTTGTTCAGGTTGGTAACCGCGGAATCCAGACGGTTTTGCACCGCACCGAGGGAAGAACGGAATTTGTCTACAGATGCGATAGCATCGTCCAGCGCTTTCAGCGGATCCGTGGTTTTACCATTTGCAACAGCAGTCAGAGCCTCACCACCAGCAGTCAAACCTGTTTGCAGATTACCGCCATTTAAATCGGCAGAATCGTATGTTTTACCATCAATATCGACCACTTCTGTTTTGCCATCATCTCCGCCCAGTTTGACCGCGGTTGGAGAACTGGCGGCACCGGAAGAGTCAGTATAGGTAATAGTTTTAACAGAAACAGCACCAGTAGTTTCATTCACATCCGCAGCGTAAAGATTGCCATTTGTATCTTTAAGCGCATATGTATCGGTATCATTACCCTTGGAATCCTGCAGTTTTACTAAGCTAACAGCACCAAGGTTGGCAGTTGCGGAACCTGCAGTATTATCAATCTGAACAGGTGTACCGCCTGAAGTGATAGTTGTAGCTTTAGTAGTATTTGCATCAGTTACAGTTGCATTTGCCGTTGCTCCAGTCGCCATTGTCACTGTACCATCATTAGCAACTGTTACTGCGTAATACTTCCCATCGTTATCACCACCGGTGATTTTCGCATAGTAATCATTACCATTATCAGTATAAACACCCTCAATTGAAGCTGGGTTAGTTCCGCCAGTATCAGTGGCTGCTTCCGTAGAAAGGGTAATTCCAGTAAGTTTAATATTGTTTGTGGTGGTAGCACCAAAAGCAGTTACTGGAGCACTAGTGGTAACTGTATCGTTATTTTTAACGCTAAAACCATCAAGGCCAAGAGTTTTAGCATCAATCTGCTTCAGATCGATAGTGATAGTCTGGTTATCATTTGCGCCAACCTGGATTTTCATGGAGCCATTTTTTGCCAGCACGTTCACGCCGTTGAACTGGGTCTGACCAGATACGCGGTCAATTTCATCCAGACGGGATTTAATTTCGTCCTGGATAGAAGACAGATCAGACTCAGAGTTAGTACCGGTAGTGGCCTGTACCGTCAGTTCACGCACACGCTGTAAGTTGTTGTTGATTTCGGACAGCGCGCCTTCGGTGGTCTGCGCAACGGAGATACCGTCGTTGGCGTTACGGGCCGCCTGAGTCAGGCCTTTAATGTTAGAGGTGAAACGGTTAGCAATCGCCTGACCCGCTGCGTCATCCTTCGCGCTGTTAATACGCAAGCCAGAAGACAGACGCTCGATAGAACTCGACAGCGCAGACTGGTTCTTGTTGATATTATTTTGAGTGATCAGCGAGAGGCTGTTGGTATTAATGACTTGTGCCATGATTCGTTATCCTATATTGCAAGTCGTTGATTACGTATTGGGTTTCCACCCGTCGGCTCAATCGCCGTCAACCCTGTTATCGTCTGTCGTAAAACAACCTTTAGAATTTTTTTCAAAAACAGCCATTTTTTGTTAGTCGCCGAAATACTCTTTTCTCTGCCCCTTATTCCCGCTATTAAAAAAAACAATTAAACGTAAACTTTGCGCAATTCAGACCGATAACCCCGGTATTCGTTTTACGTGTCGAAAGATAAAAGGAAATCGCATGGCAAGTATTTCATCGCTGGGAGTCGGGTCAGGTCTGGATTTAAGTTCCATCCTTGATAGCCTCACCGCCGCGCAAAAAGCGACGCTAACCCCCATTTCAAATCAGCAATCGTCGTTTACCGCTAAACTTAGCGCCTACGGTACGCTGAAAAGCGCGCTGACGACTTTCCAGACCGCCAATACTGCATTGTCTAAAGCCGATCTTTTTTCCGCCACCAGCACCACCAGCAGCACCACCGCGTTCAGTGCCACCACTGCGGGTAACGCCATCGCCGGGAAATACACCATCAGCGTCACCCATCTGGCGCAGGCGCAAACCCTGACCACGCGCACCACCAGAGACGATACGAAAACGGCGATCGCCACCAGCGACAGTAAACTCACCATTCAACAAGGCGGCGACAAAGATCCGATTACCATTGATATCAGCGCGGCTAACTCATCGTTAAGCGGGATCCGTGATGCCATCAACAACGCAAAAGCAGGCGTAAGCGCAAGCATCATTAACGTGGGTAACGGTGAATATCGTCTGTCAGTCACATCAAATGACACCGGCCTTGATAATGCGATGACACTCTCGGTCAGCGGTGATGATGCGCTACAAAGTTTTATGGGCTATGACGCCAGTGCCAGCAGCAACGGTATGGAGGTCTCGGTTGCCGCCCAGAATGCGCAGCTGACAGTCAACAACGTCGCCATCGAGAACAGCAGCAACACCATCAGCGACGCGCTGGAAAACATCACCCTGAACCTGAACGATGTCACCACGGGCAACCAGACGCTAACCATCACTCAGGACACCTCCAAAGCGCAAACGGCGATTAAAGACTGGGTGAATGCCTACAACTCGCTAATAGATACCTTCAGCAGCCTGACCAAATACACCGCCGTAGATGCGGGAGCTGATAGCCAGAGTTCTAGCAATGGTGCACTGCTCGGCGACTCCACGCTGCGGACGATTCAGACGCAGTTGAAATCGATGCTGAGTAATACCGTCAGTTCTTCCAGCTATAAAACGTTGGCGCAGATTGGTATCACGACCGATCCCAGCGATGGCAAACTGGAACTGGATGCCGACAAACTCACCGCTGCACTGAAAAAAGATGCCAGCGGCGTAGGTGCATTGATTGTTGGCGATGGTAAAAAAACCGGCATCACGACCACCATCGGCAGCAACCTGACCAGTTGGCTTTCGACAACGGGCATTATTAAAGCCGCTACCGATGGCGTTAGTAAGACCCTGAATAAATTAACTAAAGACTACAACGCCGCCAGCGATCGCATTGATGCGCAGGTCGCTCGCTACAAAGAACAATTTACCCAACTGGACGTTTTAATGACCTCGTTAAACAGCACCAGCAGCTACTTAACGCAGCAGTTCGAAAACAACAGTAATTCCAAGTAAGCAATATTCATCGGGAGACAGGTCATGTACGCGGCAAAAGGCACCCAGGCCTATGCACAAATTGGCGTCGAAAGCGCCGTAATGAGCGCCAGCCAGCAGCAGCTGGTCACCATGCTATTTGATGGAGTGCTGAGCGCACTGGTTAGAGCGAGCCTGTTTATGCAGGACAACAATCAGCAAGGCAAAGGCGTCTCTTTGTCAAAAGCGATCAACATCATTGAGAACGGACTGCGGGTGAGTCTTGATGAAGAGAGCAAAGACGAACTAACCCAAAACTTGATTGCTCTTTATAGCTATATGGTCAGGCGCTTGCTGCAAGCCAATTTACGCAACGATGTCTCCGCAGTCGAAGAAGTGGAAGCATTAATGCGCAATATTGCCGATGCCTGGAAAGAGTCGTTACTCTCCCCTTCTTTGATTCAGGACCCAGTCTGATGAACCATGCACCGCATTTATATTTCGCCTGGCAACAACTCGTCGAAAAAAGCCAGCTCATGTTACGCCTGGCAACGGAAGAACAATGGGACGAACTCATCGCCAGCGAAATGGCGTATGTGAATGCGGTGCAGGAGATTGCACATTTGACTGAAGAGGTTGACCCGTCCACCACGATGCAGGAGCAGCTCCGCCCGATGCTGCGCCTGATTCTCGACAACGAAAGCAAGGTAAAGCAGTTATTACAGATTCGGATGGATGAACTGGCGAAACTGGTCGGTCAGTCATCGGTGCAAAAATCGGTGTTAAGTGCCTATGGCGATCAGGGCGGCTTTGTGCTGGCTCCGCAGGATAACCTCTTTTGAATCTGAATGAGTCGATGGCTCGCGAATAATCCGATTACGGCTACGCTTCTAATGTTCCCCTTGAATGGAGTCGAAGAATGCGTAATCCCACGCTGTTACAATGTTTTCACTGGTATTACCCGGAAGGCGGTAAGCTCTGGCCTGAACTGGCCGAGCGCGCCGACGGTTTTAATGATATTGGTATCAATATGGTCTGGTTGCCGCCCGCCTATAAAGGCGCATCGGGCGGGTATTCGGTCGGCTACGACTCCTATGATTTATTTGATTTAGGCGAGTTTGATCAGAAAGGCAGCATCCCTACTAAATATGGCGATAAAGCACAACTGCTGGCCGCCATTGATGCTCTGAAACGTAATGACATTGCGGTGCTGTTGGATGTGGTAGTCAACCACAAAATGGGCGCGGATGAAAAAGAAGCTATTCGCGTGCAGCGTGTAAATGCTGATGACCGTACGCAAATTGACGAAGAAATCATTGAGTGTGAAGGCTGGACGCGTTACACCTTCCCCGCCCGTGCCGGGCAATACTCGCAGTTTATCTGGGATTTCAAATGTTTTAGCGGTATCGACCATATCGAAAACCCTGACGAAGATGGCATTTTTAAAATTGTTAACGACTACACCGGCGAAGGCTGGAACGATCAGGTTGATGATGAATTAGGTAATTTCGATTATCTGATGGGCGAGAATATCGATTTTCGCAATCATGCCGTGACGGAAGAGATTAAATACTGGGCGCGCTGGGTGATGGAACAAACGCAATGCGACGGTTTTCGTCTTGATGCGGTCAAACATATTCCAGCCTGGTTTTATAAAGAGTGGATCGAACACGTACAGGAAGTTGCGCCAAAGCCGCTGTTTATTGTGGCGGAGTACTGGTCGCATGAAGTTGATAAGCTGCAAACGTATATTGATCAGGTGGAAGGCAAAACCATGCTGTTTGATGCGCCGCTGCAGATGAAATTCCATGAAGCATCGCGCATGGGGCGCGACTACGACATGACGCAGATTTTCACGGGTACATTAGTGGAAGCCGATCCTTTCCACGCCGTGACGCTCGTTGCCAATCACGACACCCAACCGTTGCAAGCCCTCGAAGCGCCGGTCGAACCGTGGTTTAAACCGCTGGCGTATGCCTTAATTTTGTTGCGGGAAAATGGCGTTCCTTCGGTATTCTATCCGGACCTCTACGGTGCGCATTACGAAGATGTCGGTGGTGACGGGCAAACCTATCCGATAGATATGCCAATAATCGAACAGCTTGATGAGTTAATTCTCGCCCGTCAGCGTTTCGCCCACGGTGTACAGACGTTATTTTTCGACCATCCGAACTGCATTGCCTTTAGCCGCAGTGGCACCGACGAATTTCCCGGCTGCGTGGTGGTCATGTCGAACGGGGATGATGGCGAAAAAACCATTCATCTGGGAGAGAATTACGGCAATAAAACCTGGCGTGATTTTCTGGGGAACCGGCAAGAGAGAGTAGTGACCGACGAAAACGGCGAAGCAACCTTCTTTTGCAACGGCGGCAGCGTCAGCGTGTGGGTTATCGAAGAGGTGATTTAAATTCATCCCCGGCGGCAAGCCGGGGAGATTTCATTACGGCAGTGGCGTCGGTAACGGCGCTTTATCCAGCGCGGCGGCACACTCTGCTGTCGGGCGATCCACACGCTCCATCGTCATACCATCGTACTCAATGGTGTTACCGTCACGCTCAACCTCGTACAGCTCACGTTTTACGGTAACGTTAGTGAGATCATCAGACATCAATGTCAACTTACCCGGCACGGCAATCACCCGCTGCCACTGACGGCAATCCAGGGTATCGCCCTCTTTAGTGACAATCAGGCTGCCTATCGCTTCCGGGCTGACCAGCGCACGTTGCGGCCCTTTGGTCTGCCAGTAGCCCGCCAGCCAGTCCGGCGCGGGGGTTTTCACGACATTGTTATAGTTTTCGACTTCGGCACAGCCCGCCAGCAACAAGAGCGCGCCTGCAATTGCGAGTTTTTTCATCATTCGTCCTGCATGAGAAGAAAAGAGGATTGTGGCATTAAAGCCCTGATGTCGCCAGCCTTTCAAGGTTCAGAGAGAAATTTGATCTAACTATTATTTTTGTGAATTATTACCCCGAAAATAAATTTGCATGGTGTATGATTCGCGACTCTTGTTTCAAACCTTCTGAGTTCAGAGGCTACATTCATGTCATGGCAGCAATTCAAACACGCCTGGTTGATTAAATTCTGGGCCCCCATCCCTGCGGTCATCGCGGCGGGTATTCTCTCTACTTACTATTTTGGCATTACTGGCACCTTTTGGGCTGTCACGGGTGAATTTACCCGTTGGGGCGGCCAGCTCCTGCAACTGTTCGGCGTCCATGCTGAAGAGTGGGGTTACTTTAAAATTATCCATCTGGAAGGATCGCCATTAACCCGCATCGACGGGATGATGATCCTCGGTATGTTTGGCGGCTGCTTTGCCGCAGCGCTGTGGGCCAACAATGTCAAACTGCGAATGCCGCGCAGCCGTATCCGCATTATGCAGGCCATCATTGGCGGCATTATCGCCGGTTTTGGCGCGCGTCTGGCAATGGGCTGTAACCTGGCGGCGTTCTTTACCGGTATTCCTCAGTTCTCGCTGCATGCCTGGTTCTTTGCCATCGCCACTGCCATTGGTTCATGGTTTGGCGCGCGCTTTACCCTGCTGCCCATCTTCCGTATTCCCGTGAAAATGCAGAAAGTTTCTGCCGCCTCACCGCTGACGCAAAAACCGGATCAGGCGCGGCGTCGTTTTCGTCTCGGGATGCTGGTCTTTTTCGGCATGCTGGGCTGGGCGCTGCTCACAGCGATGAACCAACCCAAACTGGGGCTGGCAATGCTGTTTGGCGTCGGCTTTGGTTTACTGATTGAACGTGCGCAAATCTGCTTTACTTCAGCGTTCCGCGATATGTGGATCACCGGACGTACCCATATGGCGAAAGCAATCATTATCGGTATGGCGGTGAGTGCCATCGGGATCTTCAGTTACGTACAGTTAGGCGTTGAACCCAAAATCATGTGGGCGGGACCAAACGCGGTAATTGGTGGTTTACTGTTTGGTTTTGGCATCGTGCTGGCTGGCGGCTGCGAAACCGGCTGGATGTACCGCGCGGTAGAAGGCCAGGTGCACTACTGGTGGGTCGGTCTGGGCAATGTGATCGGCTCAACGATTCTGGCGTATTACTGGGATGATTTCGCTCCGGCGCTGGCCACCGACTGGGACAAAATCAACCTGCTGAAAACCTTTGGTCCGATGGGTGGCCTGCTGGTGACATATTTGCTGTTGTTTGCTGCGCTGATGTTGATTATCGGCTGGGAAAAACGCTTCTTCCGCCGTGCGGCACCGCAGACTGCTAAGGAGATCGCATGAAAAATATCGTTCCTGATTACCGCCTTGATATGGTGGGTGAACCCTGCCCTTATCCGGCAGTCGCAACCCTTGAGGCGATGCCGCAGTTAAAAAAAGGGGAAATCCTGGAAGTGGTGAGCGACTGTCCGCAGTCGATCAATAATATTCCACTGGATGCGCGTAATCACGGCTATACGGTGCTGGATATTCAGCAAGACGGGCCGACCATTCGTTATTTAATTCAGAAGTAATCCCTCATTCCCGCTGTGACCCACAGCGGGAACATCGTTACCTTTGTATCACATAGATTTTACCCGCCCCCACTCCTATTCTTTTCAGTATGATCTCAGGAGGTTTCTATGTGTGGACGCTTTGCCCAATCCCAAACGCGTGAAGATTACCTTGCGCTTCTCGCGGAAGATATTGAACGCGATATTCCCTATGATCCCGAACCCATTGGCAGATACAACGTCGCGCCGGGAACCAAAGTCCTACTGCTCAGTGAACGTGATGAACACCTTCATCTGGATCCGGTTTTCTGGGGATATGCTCCCGGATGGTGGGATAAACCGCCGCTGATTAACGCCCGCGTAGAAACTGCGGCAACCAGTCGTATGTTTAAACCGCTCTGGCAACATGGTCGGGCAATCTGTTTTGCCGATGGCTGGTTTGAGTGGAAAAAAGAAGGCGACAAAAAACAGCCTTTTTTTATCTATCGTGCTGATGGACAACCTATTTTTATGGCCGCGATAGGTAGCACACCATTTGAGCGTGGTGACGAAGCCGAAGGATTTTTGATCGTCACTGCTGCGGCAGATCAAGGTCTGGTAGATATTCATGACCGCCGCCCACTGGTACTGTCGCCAGAAGCTGCGCGGGAATGGATGCGGCAAGAGATTAGCGGTAAAGAAGCCTCAGAAATCGCGGCCAGTGGCTGTGTTCCAGCAAACCAGTTCTCCTGGCACCCGGTATCGCGCGCGGTGGGTAATGTTAAAAACCAGGGCGCGGAGTTAATTCAACCTGTTTGATAAGCCTGGAGATTATTGATCAACAATACTGCGTCATAAGAAATCTCTATTAGACAAAGATTTCATTACCTGTTGGCATATTGCAAAAATAACACCAATACGGAATCGTCATGTTCACGATTAAAACAGATGATCTCACCCATCCAGCAGTGCAAGCATTAGTGGCTTACCATATTTCCGGCATGCTGCAGCAGTCTCCCCCCGAAAGCAGTCATGCTTTAGATGTGCAAAAATTACGTAACCCGACAGTGACATTCTGGTCAGTATGGGAAGGCGAACAACTCGCAGGAATTGGTGCGCTGAAGTTGCTGGATGATAAACACGGCGAGCTGAAATCAATGCGTACCGCGCCAAATTATTTACGTCGTGGTGTCGCCAGTCTGATTTTACGCCACATTTTGCAGGTCGCCCAGGACAGATGCCTTCATCGCCTGAGCTTAGAAACGGGTACACAGGCTGGATTTACGGCCTGCCATCAACTTTATTTGAAGCATGGTTTCGCTGATTGCGAACCGTTTGCTGATTATCGACTTGATCCACACAGTCGATTTTTATCATTGACGCTATGCGAAAATAATGAATTGCCATGAGCCAGACGCAGCACATTCTTGCATTCGACGTGCTGCGCCTTTATTTATCACCAGCAGGAAACGCCTTGTCCATAGACGCCCCTTCCACATGCGCCACAAGAAACCTCTATTCCAGTGACACAATTGCGCCTAATTAATTACATTTAATATTTAATTATGAGTTCCTCACCATCTATTACATACTTTTTAACCATATCGGAATATTTATCATAATCAGCGGGATTCGTAACAATATATTTTCGCTGCGATCTTTCATAGCAAATCCCTGTCAAAGTCCATGATATAAAAATGTCTCTTCAAAAGAATTACATTCTTTAAAAAGTAATTCTTTATTGCTATATATCGCAGAGACAACCTCAATATCACACTCCATACGTGCTTTCTCCAGATGATTTGGGAAGTATTGAATTTCTTTTATCTTATTATCGCCACAATTAAACAGCTTAGTAGTCTCAGGCATTGCTGGTATTTACCATATTTTATTGCGATAAATAGAAATTGTCATAGCCTTTGACGGAGATGAGTCAACACGCGATATCAGATTATTATCTACGGAGACCTGGGTAATTCCATCGGATACTTTTGGAAATACCATATAATTATTGAAATCGAGCTCTAATTCTTTGCAGAATTTGGGAATTTGTATTGTGGCAAGGCCATTATGACGAAGATAAAGCACCTCAATCCAGGATGGAAGAGGTGGCAAAGACCCCAAGTGAAGATCTGTTAAGTCAAGTTTACTATTGTGGAGTTCAACACATTTAAACAATCTCACCAATGCTATATCCACATTTTTTTTGAAGTCATTCGATGCGCCTTCTTTTACTGAATTAGCCCAGTCGCTGAAACCTTTGCAAAGTCTGGAATCTGTAATTTTCGTAAAGTTGTCTAGAAACTCTGCAATATTAGTCGATATAAACTCTAATTTATGCCGAATGGGTGGGTTACCAGTTCCCTGATTTTTTCTATCATGATAAAACCTATCTTATTATAAATCGAGAAATCTTGAAACCAGAGACTATAATCACCCCATTCGAAATATTCTGAGTGCAATAACTTAAATTCTGACAGCATATTAAATAATTTGCTGTCTTCACTAATTGGTGTAAACTTACCATTTCCAAGACAACTGACTAACTCACTTGATAATTCATTTATGATTGCATCATCAGATACTAACTCATGTTGTTTTATCGTAGATTCAGTATTAGATGTGACTTTATTTAATTGAACCGGCTGAGTTTTTAACGAAAGATCATTTAATGGAAACATTTACACTCCTGTTTAATAAATTATATTGCCCAGGGCGCATTCTAAAACACAATAAAATTACCACTATCAAAAATCGCTCATATCCATCGCCCGGAATATGAATAAAAACATCAACAAAGATTAAATTATCCAGAGGTTACTGTTGCGTCTGTGGTCGTAACAACATCCGACGTGGTGATGTGTCAAATGAGACGCTCTGATGTTCAGGGGGGTTATCGCGTATACGGATCGTGGATGGCAGAAAACGTTCAGGATCAGGTATCCATTTTAAACCAGAAATTGAGTGAGTTTGCCCCATCCATGCCCCACGCGGTGAGATCGGATGTAATTAACAACAGGTTACAAAACCTACACCTGCATGCTCATCACTTCCTGATACGCCGCCACCAGCTTATTACGCACCTGAATCCCCATTTGCATAGAAACTGAGGCTTTTTGCATATCGGTCATCACATCGTTTAACGCCACGCCGGGTTCACCGAGAGTGAATTTTTCTGCCTGCGTGCGGGCAGCTGTTTGTGTATCACTAATGCGATCGAGCGCGGCGTGCAGCTGCCCGGCAAAACTAATGGTCGGTTGCGGCAGTGATTCCTGCGCACGCGCACTCATCGCCGTAGCCTGTAACTGGCTGATAACCCCTTCAATCCCCTGTATCGCTGACATTCTCGTCTCCCGGATAATTTCTGGTAGCAAAGCCTACCAGTAAGTCAATAAGACAAAGGCGCTAAATAGCAACAAAAAAACGGGTTTATTGGCGGATAGAAAAAAACGAAAGCACAAATAATGGGAGCGTCAATTTTTCGAGTTTGCTGACCCGGGAGTGAGTCTTGTTCCACTTTGCCAATAACGCCGTCCATAATCAGCCACGAGGTGCGCGATGAATGCGACTGCAGCCCAGACAAAATCTCTTGAGTGGCTTAATCGCCTGCGTGCGAATCCGAAAATTCCATTGATTGTTGCCGGTTCCGCGGCAGTGGCGGTCATGGTCGCACTGATCCTGTGGGCGAAAGCCCCCGACTACCGCACATTATTCAGCAATCTTTCCGATCAGGATGGTGGCGCAATTGTCAGCCAACTGACGCAAATGAATATTCCTTACCGCTTCAGCGAAGCCAGCGGCGCTATTGAAGTTCCGGCAGATAAAGTTCACGAACTGCGTCTGCGCCTGGCACAACAAGGTTTGCCAAAAGGCGGCGCGGTCGGTTTCGAACTGCTTGATCAGGAAAAGTTTGGTATCAGCCAGTTCAGCGAACAGGTGAATTATCAGCGGGCGCTGGAAGGCGAGCTTTCTCGTACCATCGAAACTATCGGCCCGGTAAAAGGGGCGCGCGTACATCTGGCAATGCCGAAACCGTCTTTATTCGTCCGTGAACAAAAATCCCCTTCTGCATCGGTGACGGTAAATCTGTTACCCGGCCGCGCACTCGATGAAGGGCAAATTAGCGCCATTGTGCATCTGGTTTCCAGCGCCGTTGCTGGTCTGCCGCCGGGAAACGTCACGCTGGTGGATCAGGGCGGACATCTGTTAACCCAGTCCAATACCAGCGGGCGCGATCTTAATGACGCTCAGTTGAAATATGCCAGCGATGTCGAAGGCCGTATTCAGCGGCGTATTGAAGCGATCCTGTCGCCTATTGTTGGTAACGGTAATATTCACGCCCAGGTTACGGCGCAGCTGGACTTCGCCAGTAAAGAACAAACGGAAGAACAGTATCGCCCTAACGGTGATGAATCTCATGCGGCGCTTCGTTCACGCCAGCTTAATGAGAGCGAGCAAAGCGGTTCCGGTTATCCGGGCGGCGTACCGGGGGCGTTGTCGAATCAACCGGCACCTGCGAATAACGCGCCAATCAGCACGCCTCCGGCAAATCAAAATAACCGCCAGCAGCAGGCGAGCACCACCAGCAATAGTGGGCCGCGTAGCACACAGCGGAATGAAACCAGTAACTACGAAGTCGATCGCACCATTCGTCATACCAAAATGAACGTGGGCGATGTGCAACGTCTGTCAGTCGCGGTCGTGGTGAATTACAAAACCTTGCCAGATGGCAAACCGTTGCCTCTCAGCAACGAACAGATGAAGCAAATTGAAGATCTGACCCGCGAGGCGATGGGCTTTTCTGAAAAACGCGGTGACTCGCTCAATGTCGTTAACTCGCCGTTCAATAGCAGTGACGAAAGCGGCGGAGAACTGCCATTCTGGCAACAGCAAGCGTTTATCGATCAGTTACTTGCTGCCGGTCGCTGGTTGCTGGTACTGCTGGTGGCGTGGCTGCTGTGGCGGAAAGCGGTACGTCCGCAGCTAACACGTCGCGCTGAGGCGATGAAAGCTGTACAGCAACAGGCGCAGGCCCGCGAGGAAGTGGAAGATGCGGTGGAAGTCCGCCTGAGCAAAGACGAACAACTACAACAACGGCGCGCTAACCAACGTCTGGGGGCAGAAGTCATGAGCCAGCGTATCCGTGAAATGTCTGATAACGATCCGCGCGTGGTGGCGCTGGTCATTCGCCAGTGGATAAATAACGATCATGAGTAACCTGACAGGCACCGATAAAAGCGTCATCCTGCTGATGACCATTGGCGAAGACCGGGCGGCAGAGGTGTTCAAGCACCTCTCCCAGCGTGAAGTACAAACCCTGAGCGCTGCAATGGCGAACGTCACGCAGATCTCCAACAAGCAGCTAACCGATGTGCTGGCGGAGTTTGAGCAAGAAGCTGAACAGTTTGCCGCACTGAATATCAACGCCAACGATTATCTGCGCTCGGTATTGGTCAAAGCTCTGGGTGAAGAACGTGCCGCCAGCCTGCTGGAAGATATTCTCGAAACTCGCGATACCGCCAGCGGTATTGAAACGCTCAACTTTATGGAGCCACAGAGCGCCGCCGATCTGATTCGCGATGAGCATCCGCAAATTATCGCCACCATTCTGGTGCATCTGAAGCGCGCCCAAGCCGCCGATATTCTGGCGTTGTTCGATGAACGTCTGCGCCACGACGTGATGTTGCGTATCGCCACCTTTGGCGGCGTGCAGCCAGCCGCGCTGGCGGAGCTGACCGAAGTACTGAATGGCTTGCTCGACGGTCAGAATCTCAAGCGCAGCAAAATGGGCGGCGTGAGAACGGCAGCCGAAATTATCAACCTGATGAAAACTCAGCAGGAAGAAGCCGTTATTACCGCCGTGCGTGAATTCGACGGCGAGCTGGCGCAGAAAATCATCGACGAGATGTTCCTGTTCGAGAATCTGGTGGATGTCGACGATCGCAGCATTCAGCGTCTGTTGCAGGAAGTGGATTCCGAATCGCTGTTGATCGCGCTGAAAGGAGCCGAGCAGCCACTGCGCGAGAAATTCTTGCGCAATATGTCGCAGCGTGCCGCCGATATTCTGCGCGACGATCTCGCCAACCGTGGTCCGGTGCGTCTGTCGCAGGTGGAAAACGAACAGAAAGCGATTCTGCTGATTGTGCGCCGCCTTGCCGAAACTGGCGAGATGGTAATTGGCAGCGGCGAGGATACCTATGTCTGATAATCTGCCGTGGAAAACCTGGACGCCGGACGATCTCGCGCCACCACAGGCAGAGTTTGTGCCCATAGTCGAGCCGGAAGAAACCATCATTGAAGAGGCTGAACCCAGCCTTGAGCAGCAACTGGCGCAACTGCAAATGCAGGCCCATGAGCAAGGTTATCAGGCGGGTATTGCCGAAGGTCGCCAGCAAGGTCATAAGCAGGGCTATCAGGAAGGACTGGCCCAGGGGCTGGAGCAAGGTCTGGCAGAGGCGAAGTCTCAACAAGCGCCAATTCATGCCCGGATGCAGCAACTGGTCAGCGAATTTCAAACTACCCTTGATGCACTTGATAGTGTGATAGCGTCGCGCCTGATGCAGATGGCGCTGGAGGCGGCACGTCAGGTCATCGGTCAGACGCCAACGGTGGATAACTCGGCACTGATCAAACAGATCCAACAGTTGTTGCAGCAAGAACCGTTATTCAGCGGTAAACCACAGCTGCGCGTGCACCCGGATGATCTGCAACGTGTGGATGATATGCTCGGCGCTACCTTAAGTTTGCATGGCTGGCGCTTGCGGGGCGATCCCACCCTCCATCCTGGCGGCTGTAAAGTCTCCGCCGATGAAGGCGATCTCGACGCCAGTGTCGCCACTCGCTGGCAAGAACTCTGCCGTCTGGCAGCACCAGGAGTGGTGTAATGACCACGCGCCTGACTCGCTGGCTAACCACGCTGGATAACTTTGAAGCCAAAATGGCGCAGTTGCCTGCGGTACGTCGCTACGGGCGATTAACCCGCGCTACCGGGCTGGTGCTGGAAGCCACCGGATTACAATTGCCGCTCGGCGCAACCTGTGTCATTGAGCGCCAGAACGGCAGCGAAACGCACGAAGTAGAAAGCGAAGTCGTTGGCTTTAACGGTCAACGGCTGTTTTTAATGCCGCTGGAGGAAGTCGAAGGTGTCCTGCCCGGCGCGCGTGTTTATGCCAAAAACATTTCGGCAGAAGGGCTGCAAAGCGGCAAGCAGTTGCCGCTCGGTCCGGCGTTATTAGGTCGCGTTCTGGACGGCAGCGGTAAACCGCTCGATGGCCTGCCCTCCCCCGATACGACGGAAACCGGTGCGCTGATTACCCCGCCATTTAACCCGTTGCAACGTACACCGATTGAACATGTGCTGGACACCGGCGTGCGCCCAATCAATGCCCTGCTTACCGTTGGGCGTGGGCAGCGTATGGGGCTGTTTGCCGGGTCCGGCGTTGGTAAAAGTGTGCTGCTGGGGATGATGGCACGTTACACCCGCGCCGATGTCATTGTCGTGGGTTTGATTGGTGAACGTGGGCGCGAAGTAAAAGATTTTATTGAGAACATCCTCGGTGCCGAAGGGCGTGCACGCTCAGTGGTGATTGCCGCTCCGGCGGATGTTTCTCCGCTCCTGCGAATGCAGGGTGCCGCCTATGCCACGCGCATTGCCGAAGATTTTCGCGATCGTGGTCAGCATGTGTTGCTGATTATGGACTCCCTCACCCGCTACGCGATGGCCCAGCGTGAAATTGCGCTGGCGATTGGCGAACCCCCCGCCACCAAAGGTTATCCACCGTCGGTGTTTGCCAAATTACCGGCACTGGTCGAGCGTGCCGGAAATGGCATTAGCGGCGGCGGCTCGATTACCGCGTTTTATACCGTGCTCACTGAAGGCGATGACCAGCAGGATCCGATTGCCGACTCCGCGCGGGCGATCCTCGACGGTCACATTGTGCTGTCTCGCCGACTGGCGGAAGCCGGGCACTATCCGGCTATCGATATTGAAGCGTCGATCAGCCGCGCAATGACGGCGTTGATCAGTGAGCAACATTACGCGCGAGTGCGCACCTTCAAACAGCTGTTGTCGAGTTTTCAGCGTAACCGCGATCTGGTTAGCGTCGGCGCGTATGCCAAAGGCAGCGATCCGATGCTCGATAAAGCCATCGCCCTGTGGCCGCAGCTGGAGGGCTATTTGCAACAAGGCATTTTTGAACGCGCGGACTGGGAAGCGTCTCTCCAGGGGCTGGAGCGTATTTTCCCGACAGTGTCATAACCCAGGAGATAACGGCAGATGGCAGAACATGGTGCGCTGGCGACCCTGAAAGATCTGGCAGAAAAAGAGGTAGAGGATGCCGCGCGCCTGCTGGGTGAAATGCGTCGCGGATGTCAGCAGGCGGAAGAACAGCTCAAAATGCTGATTGATTATCAGAATGAATATCGCAATAACCTCAACAGCGATATGAGTGCCGGGATAACCAGCAACCGCTGGATCAACTATCAGCAGTTTATCCAGACGCTGGAAAAAGCCATTACTCAGCATCGCCAGCAACTTAATCAGTGGACGCAGAAAGTTGACATTGCCCTGAACAGTTGGCGAGAAAAAAAACAACGTTTGCAGGCCTGGCAGACACTGCAGGAACGGCAATCCACGGCGGCACTGCTTGCAGAAAACCGCCTCGATCAGAAAAAGATGGATGAGTTCGCCCAGCGCGCCGCCATGAGGAAACCTGAATGATTCGCTTAGCGCCCTTGATTACCGCCGACGTTGACACCACCACATTGCCTGGCGGCAAAGCCAGCGATGCTGCACAAGATTTTCTCGCGTTGTTGAGCGAAGCATTAGCAGGCGAGACAACTACCGACAAAGCGGCCCCCCAGTTGCTGGTGGCAACAGATAAGCCCACGACAAAAGGCGAGCCGCTGATCAGCGATATTGTTTCCGACGCGCAACAAGCTAATTTACTGATCCCTGTGGATGAAACACCGCCTGTCATCAACGACGAACAATCCACATCAACACCGTTAACCACCGCTCAGACGATGGCGTTGGCTGCGGTGGCTGACAAAAATACGACAAAAGACGAAAAAGCGGATGATCTGAATGAAGACGTCACCGCAAGCCTGAGCGCCCTTTTTGCGATGTTGCCGGGTTTTGACAATACGCCCAAAGTGACTGATGCGCCGTCAACCGTGTTACCGACAGAGAAACCAACGCTCTTCACAAAACTGACTTCTGAGCAACTCACAACAGCACAGCCTGATGACGCCCCCGGCACACCAGCTCAGCCATTAACACCGCTGGTAGCAGAAGCCCAGAGTAAAGCGGAAGTCATCAGCACACCTTCACCGGTGACCGCTGCCGCCAGCCCGCTAATCACTCCACACCAGACACAGCCACTGCCCACCGTCGCCGCACCTGTTTTGAGTGCACCGCTGGGTTCTCACGAATGGCAACAATCATTAAGCCAGCATATTTCGCTGTTCACCCGCCAGGGGCAACAAAGTGCAGAGTTGCGTCTGCACCCGCAGGATTTAGGTGAAGTGCAAATCTCCCTCAAAGTGGATGATAACCAGGCGCAAATCCAGATGGTTTCACCGCATCAGCATGTACGCGCCGCCCTGGAAGCAGCGCTGCCGGTACTGCGCACGCAGCTGGCCGAAAGTGGCATTCAGTTAGGGCAAAGCAACATCAGTGGCGAAAGCTTTAGTGGTCAGCAGCAGGCCGCTTCCCAGCAACAGCAAAGCCAACGCACAGCAAACCATGAACCTCTGGCGGGGGAAGACGACGATACGCTTCCGGTTCCCGTCTCTTTACAAGGGCGTGTAACAGGCAACAGCGGCGTTGATATTTTCGCCTAACGTCAGAGGTAGCACCGTAATCCGCGTCTTTTCCCCGCTTTGTTGCGCTCAAGACGCAGGATAATTAGCCGATAAGCAGTAGCGACACAGGAAGACCGCAACACATGACTGATTACGCGATAAGCAAGAAAAGCAAGCGATCGCTTTGGATCCCGATTCTGGTATTCATTACCCTCGCGGCCTGTGCCAGCGCAGGTTACAGCTACTGGCATTCGCATCAGGTTGCCGCTGACGACAAAGCGCAGCAACGCGTCGTGCCCTCACCGGTCTTCTACGCGCTGGATACCTTCACGGTCAATTTGGGCGATGCGGATCGCGTACTTTATATCGGCATAACCCTGCGCCTGAAAGATGAAGCTACCCGCTCGCGGCTGAGTGAGTATTTGCCGGAAGTCCGTAGTCGCTTGCTGTTACTGTTTTCGCGTCAGGATGCTGCCGTACTGGCGACAGAAGAAGGCAAGAAAAACCTGATTGCCGAGATTAAAACCACACTTTCCACCCCGCTTGTTGCCGGGCAACCGAAACAGGATGTCACCGACGTGCTGTATACCGCTTTTATTCTGCGATAACGACATGGGCGATAGTATTCTTTCTCAAGCTGAAATTGATGCGCTGTTGAATGGTGACAGCGAAGTCAAAGACGAACCGACAGCCAGTGTTAGCGGCGAAAGTGACATTCGTCCGTACGATCCGAATACCCAACGACGGGTTGTGCGCGAACGTTTGCAGGCGCTGGAAATCATTAATGAGCGCTTTGCCCGCCATTTTCGTATGGGGCTGTTCAACCTGCTGCGTCGTAGCCCGGATATAACCGTCGGGGCCATCCGCATTCAGCCGTACCATGAATTTGCCCGCAACCTGCCGGTGCCGACCAACCTGAACCTTATCCATCTGAAACCGCTGCGCGGCACTGGGCTGGTGGTGTTCTCACCGAGTCTGGTGTTTATCGCCGTGGATAACCTGTTTGGCGGCGATGGACGCTTCCCGACCAAAGTGGAAGGTCGCGAGTTTACCCATACCGAACAGCGCGTCATCAACCGCATGTTGAAACTGGCGCTTGAAGGCTATAGCGACGCCTGGAAGGCGATTAATCCGCTGGAAGTTGAGTACGTGCGTTCGGAAATGCAGGTGAAATTTACCAATATCACCACCTCGCCGAACGACATTGTGGTTAACACGCCGTTCCATGTGGAGATTGGCAACCTGACCGGCGAATTTAATATCTGCCTGCCATTCAGCATGATCGAGCCGCTACGGGAATTGTTGGTTAACCCGCCGCTGGAAAACTCGCGTAATGAAGATCAGAACTGGCGCGATAACCTGGTGCGCCAGGTGCAGCATTCACAGCTGGAGCTGGTCGCCAACTTTGCCGATATCTCGCTACGCCTGTCGCAGATTTTAAAACTGAACCCCGGCGACGTCCTGCCGATAGAAAAACCCGATCGCATCATCGCCCATGTTGACGGCGTCCCGGTGCTGACCAGTCAGTATGGCACCCTCAACGGTCAGTATGCGTTACGGATAGAACATTTGATTAACCCGATTTTAAATTCTCTGAACGAGGAACAGCCCAAATGAGTGACATGAATAATCCGGCCGATGACAACAACGGCGCAATGGACGATCTGTGGGCTGAAGCGTTGAGCGAACAAAAATCAACCAGCAGCAAAAGCGCTGCCGAGACGGTGTTCCAGCAATTTGGCGGTGGTGATGTCAGCGGAACGTTGCAGGATATCGACCTGATTATGGATATTCCGGTCAAGCTGACCGTCGAGCTGGGCCGTACGCGGATGACCATCAAAGAGCTGTTGCGTCTGACGCAAGGGTCCGTCGTGGCGCTGGACGGTCTGGCGGGCGAACCACTGGATATTCTGATCAACGGTTATTTAATCGCCCAGGGCGAAGTGGTGGTCGTTGCCGATAAATATGGCGTGCGGATCACCGATATCATTACTCCGTCTGAGCGAATGCGCCGCCTGAGCCGTTAGTGATGAATAACCACGCTACTGTGCAATCTTCCGCGCCGGTTTCTGCTGCGCCACTGCTGCAGGTGAGCGGCGCACTCATCGCCATTATTGCCCTGATCCTCGCTGCTGCCTGGCTGGTAAAACGGTTGGGATTTGCCCCTAAACGCACTGGCGTTAACGGTCTGAAAATTAGCGCCAGTGCTTCACTGGGCGCGCGTGAAAGGGTTGTGGTGGTCGATGTGGAAGATGCACGGCTGGTGCTCGGCGTTACCGCAGGTCAAATCAATCTGCTGCATAAACTTCCCCCTTCTGCACCAACGGAAGAGATACCGCAGACCGATTTTCAGTCGGTCATGAAAAATTTGCTTAAGCGTAGCGGGAGATCCTGATGCGTCGTTTATTGTCTGTCGCACCTGTCCTTCTCTGGCTGATTACGCCCCTCGCCTTCGCGCAACTGCCGGGTATCACCAGCCAGCCGCTGCCTGGCGGTGGACAAAGCTGGTCGCTCCCGGTGCAGACGCTGGTGTTCATCACCTCGTTGACGTTTATTCCGGCAATTTTACTGATGATGACCAGTTTCACCCGCATCATCATTGTTTTTGGTTTATTGCGTAACGCGCTGGGAACACCCTCCGCGCCACCTAACCAGGTATTGCTGGGGCTGGCACTGTTTTTGACCTTTTTTATTATGTCACCGGTGATCGACAAAATTTATGTAGATGCGTACCAGCCATTCAGCGAAGAGAAAATATCAATGCAGGAGGCGCTGGAAAAAGGGGCGCAGCCGCTGCGTGAGTTTATGCTGCGTCAGACCCGTGAGGCAGATTTAGGGTTGTTTGCCAGACTGGCGAATACCGGCCCGTTGCAGGGACCTGAAGCCGTGCCGATGCGCATTTTGCTCCCGGCCTACGTGACCAGCGAGTTGAAAACCGCATTTCAGATAGGCTTCACGATTTTCATCCCTTTTTTGATTATCGACCTGGTGATAGCCAGCGTGTTGATGGCATTGGGGATGATGATGGTTCCCCCAGCCACCATTGCTCTGCCCTTTAAACTGATGCTGTTTGTACTGGTGGATGGCTGGCAATTGCTGGTCGGTTCGCTGGCGCAGAGCTTTTACAGCTAGAGAGGCAAAATGACACCTGAATCGGTCATGATGATGGGGACTGAAGCGATGAAAGTCGCGCTGGCACTGGCTGCCCCGCTATTGTTGGTAGCGTTGGTCACGGGCCTTATCATCAGTATTTTGCAGGCCGCCACGCAGATTAACGAAATGACGCTGTCGTTTATTCCGAAAATCATCGCCGTATTTATCGCCATTATTATTGCCGGACCGTGGATGCTCAATCTGTTGCTGGATTACGTCCGCACCTTGTTCACTAACCTGCCGTATATCATCGGGTAGCCGTACTATGTTGCAGGTGACAAGCGAACAATGGCTATCCTGGTTAAACCTGTACTTCTGGCCGTTACTGCGCGTGCTGGCGCTGATCTCCACCGCGCCGATTCTGAGCGAACGCAGCGTACCGAAACGGGTAAAACTGGGTCTGGCAATGATGATCACGTTCGCCATTGCCCCATCATTACCTGCCAACGATGTTCCTGTTTTTTCGTTCTTTGCTCTGTGGCTGGCCGTGCAGCAGATCCTGATCGGCATTGCGCTTGGTTTTACCATGCAATTTGCCTTTGCCGCTGTGCGAACCGCTGGCGAAATTATCGGTCTGCAAATGGGGCTGTCATTTGCGACGTTTGTCGATCCGGCCAGCCATCTTAATATGCCCGTTTTAGCGCGTATCATGGATATGCTGGCGTTACTGCTGTTCCTGACATTTAACGGTCATTTATGGTTGATTTCACTGCTGGTCGATACCTTTCACACCCTGCCGATTGGTGGCGAACCGTTGAACAGCAATGCGTTTCTGGCACTCACCAAAGCAGGGAGTTTGATTTTCCTTAACGGGCTGATGCTGGCGTTACCGCTCATTACTCTGCTGCTGACACTGAATCTGGCATTAGGTTTACTTAATCGTATGGCCCCGCAATTATCCATTTTTGTTATTGGATTTCCATTAACTCTGACTGTCGGCATCTCTTTAATGGCGGCATTAATGCCGTTAATTGCACCTTTTTGCGAACATTTATTCAGTGAAATTTTTAATTTGCTGGCTGATATTATTAGTGAATTGCCATTAATATAATTCCGTAACGTTTATCATGTTATCCTAAGGATTATCCGAAAAATAATACCTACGAACATCTTCCAGGATACTCCTGCAGCGAAATATTTGTTTTAAGCTCACTCACATATCGCAACATTTACTTTACTTTAAGACAATTCCAGGCAAATTATACAACACTTTACGGGATAGTAAGTCCGCCTGAAAAATCGCGAGAGTGGCGCATTAGGTGACCCATGTTGTTCCGTTTAGTCATGATGAAATATTCAGGTAAGGGGAATTATCGTTACGCATTGAGTGAGGGTATGCCATGTCAACGATTATTATGGATTTATGTAGTTACACCCGACTAGGTTTAACCGGGTATCTGTTGAGTAGAGGGGTTAAAAAAAGAGAAATCAACGACATTGAAACCGTTGATGACCTTGCCATAGCTTGTGATTCACAGCGCCCTTCAGTGGTGTTTATTAATGAGGACTGTTTCATCCACGATGCTTCTAACAGTCAGCGTATCAAGCTCATCATTAATCAACATCCCAATACGTTATTTATCGTTTTTATGGCAATTGCCAATGTTCATTTTGATGAATATCTATTGGTCAGAAAAAATTTATTGATCAGTTCTAAATCGATTAAACCGGAATCTCTCGACGATATCCTTGGCGATATTCTGAAAAAAGAGACAACGATAACCTCGTTTTTAAATATGCCGACGTTATCATTGAGCCGAACCGAATCGAGTATGTTGCGAATGTGGATGGCAGGTCAGGGAACCATTCAAATCTCTGACCAAATGAATATCAAAGCCAAGACCGTTTCATCGCATAAAGGTAATATTAAACGTAAGATCAAAACGCATAATAAACAGGTTATCTACCATGTCGTCCGACTGACGGATAATGTGACTAATGGTATTTTTGTCAACATGCGCTAACACATTCTGACTGGTGGTTTCCCACCAGTCAGGCTGAATAAGATTACTCTGCTTTCTCCACAAAGATACCGTCCTGATGCCCTGCTTCATTAAAGAACCAGATGCCGAGCGGGTAGTCTTCCAGCGAAACCAGGTACATTGTGCCTTCACTAAACTCCTCAACTGCCAGTACCACGCCAGGACGACGCGGACCGCCATCCGTTTTGACTGTTACCCGATCATTCACCTTCATCGTTTTCCTCCTGTGGCTTTGTGCCAGTGTAGAACAATTTCGTTTTTCTGGCAGCGCCAGGCGCGCGCGAGTGCTGATTTTCTCGACGGTCTATACTTAAGAGATGCCAGGCGGACTTAACGACTGGCGGCAACAACAGAGTAACGGTTGCGAGGAAAGATGATGAAAACCGCAAAAGAGTACAGCGATACCGCAAAACGTGAGGTCAGCGTCGATGTCGATGCCCTGCTGGCGGCGATCAATGAAATTAGCGAAAGCGAAGTTCATCGCAGCCAGAACGATTCTGAACACGTTAGCGTCGATGGACGTGAATATCATACATGGCGTGAATTGGCGGATGCCTTCGAACTGGATATTCATGACTTCAGCGTCTCTGAAGTGAATCGTTGAATGCACAATAAAAAAATCCCGACCCTGAGGGGGTCGGGATGAAACTTGCTTAAGCAAGAAGCACTTAAAAAATTCGTTACACCAGGAAATCTGATGTGTTCATCACCTTATCCGCAATTTTTTTCGCTGACAAGAAAATATTCGCCATATGAATGATTAACGCTACTTATGAATAGAAATGTGACGCACGTCACCCCTTGGTGGCTCTGGCGTCAGCGGGATCGCTCCCGAAAAAATCATCTTTGATAATTTGTGCGGTTTTGAGAATCATCCTGGTAAGAGGAGTACTGCGCGACTATGTTTTCAATTCAACAACCACTACTGGTTTTTAGCGATCTTGATGGCACCCTGCTGGACAGTCATAGTTATGACTGGCAACCGGCAGCCCCCTGGCTCACCCGTTTACGCGAAGCAAATGTTCCCGTCATTCTCTGTAGCAGTAAAACATCAGCGGAAATGCTGTACTTGCAAAAAACGTTGGGGCTACAAGGTTTACCGCTGATTGCCGAAAATGGCGCAGTGATCCAGCTTGCTGAGCAATGGCAGGAGATAGACGGTTTTCCACGCATCATCTCAGGTATTAGCCATGGCGAAATCAGCCTGGTTTTAAATACGCTACGCGAGAAAGAACATTTTAAATTCACGACTTTTGATGATGTCGACGATGCAACCATCGCCGAATGGACGGGATTAAGCCGTAGCCAGGCGGCGCTGACGCAGCTTCATGAGGCGTCGGTAACGCTAATCTGGCGCGACAGTGACGAGCGTATGGCACAATTTACCGCTCGTCTGAACGAACTGGGCTTACAGTTTATGCAGGGTGCGCGCTTCTGGCACGTACTGGATGCTTCTGCCGGAAAAGATCAGGCTGCCAACTGGATTATCGCGACCTATCAACAATTGTCAGGCAAACGCCCAACCACACTTGGCCTGGGCGATGGGCCAAACGATGCGCCCTTACTGGAGGTAATGGATTACGCGGTGATTGTGAAAGGGCTAAATCGTGAAGGGGTGCATCTGCATGATGAGGATCCGGCCCGCGTCTGGCGAACGCAGCGTGAAGGACCGGAAGGATGGCGTGAAGGGCTGGACCATTTTTTCTCCGCCCGTTAAGCGTTATCGCTCGCGAATACCCGATTACGCCCAGCCTGTTTAGCGAGATAAAGCCGACGGTCGGCCAGTGACTGGAGTTGTTCAAAATCATAATCACCGGTTTCCTCGCTGCTGCTTACCCCCAGCGAGGCACTGATGCGTATCGTCGTACTCTTGGCGATCAACATCTCTTTTTCATTTAATTTCAGTCGAATACGTTCTGCGACCTCCGCAGCCTCCGTCAGACTCGCGCCTGGCAGAATCACACAAAACTCCTCACCACCGACCCGCCCGGCAACGTCCTGCGCACGCAAGGAACTGCTAATTAATCCGGCAGCATGAGAAAGAACACGGTCGCCCGCCTGATGACCAAAGCGGTCATTAATCGCTTTAAAATGGTCAAGATCGACCTGAATGACAGAAAAAGGATGTTGGTGCGTCTGACACAATTTAGCGAGCGGACGGGCTTTTTCGAACAGTGCGCCACGGTTATATAAACGCGTTAAGGTGTCGTGCCACGCCTGCCACTGCAACGAGCTTTGCAGAACATACATGTTGCTAACCATCCGGCGAATCACATACCAGGAGATGAGTAACATGGTGGTAAAGAGCGCCCACAGCAGGGTTAATGCAATGCTGATACTGCCGAAATCGCCGCGCACGCCTTCGCTTAACGTATGGACACGCACCAGCACACCGTCGAAATGGTCCAGACGTTCCCAGCTAACATAGCGACTGTCCATACGAATGCCGCCCCGCGTGTCATGTTCCATTGCCTGCGCCAGCAAGGCCAGTTCACGAGGATCAAAAATATTCCCTGTTGGATGGTCAGGATTGGAAGAGGTCAAAAATCTCAGCTTACTGTCATAGAGCTGATACTCACCATCGAGGTTTTTATCGATGGCGTTTCTTAAAAATTGCTGCATAGTACGCACGGGAATACTCATCCCCAGCACGCCATACCAGTAGTTATTACTGTCTACCGGAACACTGACGGTAACCTGCGGTTCAGTATTGCTGGCGTGTTCCGGTTGCGAAGTGAACCAGCGTACCGCGCGGTGACGATTTTCTCGTTGTGAATGGCCAATAAACCAGGGTTGGGTGACATAGCCGTAATAACGCGTTGGAACATTGCGCGTAAACAAGGTCGGCTGCGTCGAAACGTAAAATCCGGCACGCGAGACATACATCGCCTGTTCAACCATCGACGAGGAGTTGTGCGCTAGTCGCAGCAAGTAACCAACTTCCAGTGCAGCGGTAATTTCATTGTCGAGGCTTTCATTTTCGCGAGACAGGAGATTCCCCTCGCTGACTAATGCATCCGACACACCATTAACTGGCAGAGTGCGTCGTCGGTTGAGTTCGATTTTCCAGGCGTGCTCGTCGCGATGCTGTTCGAACTCGGTTACAGCATCACGCAGAGAGGTGAAATCCAGTGGCGCTACGAGAGCTTCGCGCATGCCATTACGTAAAAAGATCAGTTTGTCGACGTTATACTGCAAATGCTTATCGAGCGCGTTGGCAACGTTTTCCAGATGATTACGCTGGCTGGAGATATAGGCATCTTCCAGCACCACCACTTCACGCCAGGTGAGCAAGGTGGAAAAAAGCAATACCACGATAAAGCAGAGATTAACGACATGACCAGGCCCCAGGCGGCGTGCGAGTTTTTTCAACCAGCTCTGGTTTTCCATTTTTGTCTCGTGCTGCACCCTGACGACTCCCAACCTGCTTTTTTATGATTCTGGCATAACCTGGCGATAG"
      ]
     },
     "execution_count": 89,
     "metadata": {},
     "output_type": "execute_result"
    }
   ],
   "source": [
    "# extract first sequence from genes dictionary get sequence start to finish\n",
    "seq1 = genes[records[0]][:]\n",
    "seq1"
   ]
  },
  {
   "cell_type": "code",
   "execution_count": null,
   "metadata": {
    "id": "7B_pmZw-WbC8",
    "outputId": "285c7f40-a32d-4837-dc3c-52798cd66d61"
   },
   "outputs": [
    {
     "data": {
      "text/plain": [
       "49732"
      ]
     },
     "execution_count": 86,
     "metadata": {},
     "output_type": "execute_result"
    }
   ],
   "source": [
    "# Longitud del contenido \n",
    "seq1.end"
   ]
  },
  {
   "cell_type": "code",
   "execution_count": null,
   "metadata": {
    "id": "FVS_iHAFWbC8",
    "outputId": "3003e781-276f-4549-cfad-c45f904230b0"
   },
   "outputs": [
    {
     "data": {
      "text/plain": [
       "'AATATGTCCTTACAAATAGAAATGGGTCTTTACACTTATC'"
      ]
     },
     "execution_count": 91,
     "metadata": {},
     "output_type": "execute_result"
    }
   ],
   "source": [
    "# Extraer la secuencia (sin el identificador)\n",
    "seq1_str = seq1.seq\n",
    "# Imprimir primeros 40 caracteres\n",
    "seq1_str[:40]"
   ]
  },
  {
   "cell_type": "code",
   "execution_count": null,
   "metadata": {
    "id": "7CSresfDWbC8",
    "outputId": "8399e68d-7f34-4bd3-8973-5e1f702732be"
   },
   "outputs": [
    {
     "data": {
      "text/plain": [
       "'GATC'"
      ]
     },
     "execution_count": 88,
     "metadata": {},
     "output_type": "execute_result"
    }
   ],
   "source": [
    "# patrón específico\n",
    "m = re.search(r\"GATC\", seq1_str)\n",
    "m.group()"
   ]
  },
  {
   "cell_type": "code",
   "execution_count": null,
   "metadata": {
    "id": "0pFKvthfWbC8",
    "outputId": "433823be-aa57-4fc6-da61-9368a0125ae1"
   },
   "outputs": [
    {
     "data": {
      "text/plain": [
       "(130, 134)"
      ]
     },
     "execution_count": 89,
     "metadata": {},
     "output_type": "execute_result"
    }
   ],
   "source": [
    "m.span()"
   ]
  },
  {
   "cell_type": "code",
   "execution_count": null,
   "metadata": {
    "id": "rOWEHB_LWbC8",
    "outputId": "11404f7c-2073-4c91-dc58-3bfb875e721c"
   },
   "outputs": [
    {
     "name": "stdout",
     "output_type": "stream",
     "text": [
      "130\n",
      "134\n"
     ]
    }
   ],
   "source": [
    "print(m.start())\n",
    "print(m.end())"
   ]
  },
  {
   "cell_type": "code",
   "execution_count": null,
   "metadata": {
    "id": "Aezrl83QWbC8",
    "outputId": "7a171cdd-0ba8-4fb2-873a-96d959564747"
   },
   "outputs": [
    {
     "name": "stdout",
     "output_type": "stream",
     "text": [
      "['GCACCACCGCGTT', 'CAGTCATCGGTGC', 'CAGGAATTGGTGC', 'GCACAACAAGGTT', 'CAGCTGCGCGTGC', 'CAGAACATGGTGC', 'GCACCGCTGGGTT']\n"
     ]
    }
   ],
   "source": [
    "# Obtener todas las coincidencias\n",
    "m = re.findall(r\"CAG[ATCG]{6}GTGC|GCAC[ATCG]{6}GTT\", seq1_str)\n",
    "print(m)"
   ]
  },
  {
   "cell_type": "code",
   "execution_count": null,
   "metadata": {
    "id": "m2e03cDUWbC8",
    "outputId": "d781cf27-d0d5-4d64-f96c-2df15aa36b4f"
   },
   "outputs": [
    {
     "name": "stdout",
     "output_type": "stream",
     "text": [
      "Se tiene 6 coincidencias\n",
      "Las coincidencias son:['AACAGCATCGTGC', 'AACTGGCGGGTGC', 'GCACCACCGCGTT', 'GCACAACAAGGTT', 'GCACCGCTGGGTT', 'AACCTGCCGGTGC']\n"
     ]
    }
   ],
   "source": [
    "# Imprimir resultados\n",
    "if m:\n",
    "    print(\"Se tiene \" + str(len(m)) + \" coincidencias\")\n",
    "    print(\"Las coincidencias son:\" + str(m))"
   ]
  },
  {
   "cell_type": "code",
   "execution_count": null,
   "metadata": {
    "id": "aiBtRvkeWbC9",
    "outputId": "a3b8e795-a93a-4796-9d84-031453fe1b2a"
   },
   "outputs": [
    {
     "name": "stdout",
     "output_type": "stream",
     "text": [
      "18452 AACAGCATCGTGC 18465\n",
      "18750 AACTGGCGGGTGC 18763\n",
      "25767 GCACCACCGCGTT 25780\n",
      "35183 GCACAACAAGGTT 35196\n",
      "40745 GCACCGCTGGGTT 40758\n",
      "42032 AACCTGCCGGTGC 42045\n"
     ]
    }
   ],
   "source": [
    "# Obtener las coincidencias iterando\n",
    "hits = re.finditer(r\"AAC[ATCG]{6}GTGC|GCAC[ATCG]{6}GTT\", seq1_str)\n",
    "for item in hits:\n",
    "    print(item.start() + 1, item.group(), item.end() + 1)"
   ]
  },
  {
   "cell_type": "code",
   "execution_count": null,
   "metadata": {
    "id": "IN48Uh0MWbC9",
    "outputId": "c6ef692a-d557-4909-d5a4-d7175cb2d488"
   },
   "outputs": [
    {
     "data": {
      "text/plain": [
       "['AACAGCATCGTGC',\n",
       " 'AACTGGCGGGTGC',\n",
       " 'GCACCACCGCGTT',\n",
       " 'GCACAACAAGGTT',\n",
       " 'GCACCGCTGGGTT',\n",
       " 'AACCTGCCGGTGC']"
      ]
     },
     "execution_count": 72,
     "metadata": {},
     "output_type": "execute_result"
    }
   ],
   "source": [
    "# Guardar lo explorado\n",
    "EcoKI = re.compile(r\"AAC[ATCG]{6}GTGC|GCAC[ATCG]{6}GTT\")\n",
    "m = EcoKI.findall(seq1_str)\n",
    "m"
   ]
  },
  {
   "cell_type": "code",
   "execution_count": null,
   "metadata": {
    "id": "GOWgDEfKWbC9",
    "outputId": "9da70f80-f9fd-45ff-f257-696502a63375"
   },
   "outputs": [
    {
     "data": {
      "text/plain": [
       "'GTT'"
      ]
     },
     "execution_count": 74,
     "metadata": {},
     "output_type": "execute_result"
    }
   ],
   "source": [
    "## Agrupamiento \n",
    "# match a G, followed by 2 T's\n",
    "re.search(r\"GT{2}\", \"ATGGTGTCCGTGTT\").group()\n"
   ]
  },
  {
   "cell_type": "code",
   "execution_count": null,
   "metadata": {
    "id": "WNQyciGKWbC9"
   },
   "outputs": [],
   "source": [
    "# match GT twice\n",
    "In [2]: re.search(r\"(GT){2}\", \"ATGGTGTCCGTGTT\").group()\n",
    "Out[2]: 'GTGT'"
   ]
  },
  {
   "cell_type": "code",
   "execution_count": null,
   "metadata": {
    "id": "9y4j4NFLWbC9",
    "outputId": "dcb9902f-9856-4e2f-fee9-6dd692b6177d"
   },
   "outputs": [
    {
     "name": "stdout",
     "output_type": "stream",
     "text": [
      "(AAC[AC]GGATTAGATACCC[GT]G)([ATCG]+)([CT]T[AG]AAACTCAAATGAATTGACGGGG)\n"
     ]
    },
    {
     "data": {
      "text/plain": [
       "'AACAGGATTAGATACCCTGGTAGTCCACGCCGTAAACGAT'"
      ]
     },
     "execution_count": 82,
     "metadata": {},
     "output_type": "execute_result"
    }
   ],
   "source": [
    "with open(\"16S_regex_pattern.txt\") as f:\n",
    "    # read first line\n",
    "    regpat = f.readline()\n",
    "    # forward primer 799F,  secuencia , reverse primer 904R\n",
    "    print(regpat)\n",
    "\n",
    "seq2_str = genes[records[1]][:].seq\n",
    "# compile regex pattern\n",
    "amp = re.compile(regpat)\n",
    "m = amp.search(seq2_str)\n",
    "# now we can individually return the matched groups\n",
    "# group(0) returns the entire match\n",
    "# we look at only the first 40 nucleotides\n",
    "m.group(0)[:40]\n"
   ]
  },
  {
   "cell_type": "code",
   "execution_count": null,
   "metadata": {
    "id": "8SY2HrtTWbC9",
    "outputId": "cfab0b36-886b-4431-8656-b5dbd77b997c"
   },
   "outputs": [
    {
     "data": {
      "text/plain": [
       "'AACAGGATTAGATACCCTG'"
      ]
     },
     "execution_count": 78,
     "metadata": {},
     "output_type": "execute_result"
    }
   ],
   "source": [
    "# group(1) returns the first group - our forward primer\n",
    "m.group(1)\n",
    "\n"
   ]
  },
  {
   "cell_type": "code",
   "execution_count": null,
   "metadata": {
    "id": "MpMRwMIkWbC9",
    "outputId": "87f29884-6eda-4527-b7c5-b96e2f9967bf"
   },
   "outputs": [
    {
     "data": {
      "text/plain": [
       "'GTAGTCCACGCCGTAAACGATGTCGACTTGGAGGTTGTGC'"
      ]
     },
     "execution_count": 79,
     "metadata": {},
     "output_type": "execute_result"
    }
   ],
   "source": [
    "# group(2) is the variable middle part\n",
    "# this is the sequence we're interested in\n",
    "m.group(2)[:40]\n"
   ]
  },
  {
   "cell_type": "code",
   "execution_count": null,
   "metadata": {
    "id": "XC3ZGeFjWbC9",
    "outputId": "89f7e793-5f97-4577-bc92-d667c5d14ace"
   },
   "outputs": [
    {
     "data": {
      "text/plain": [
       "104"
      ]
     },
     "execution_count": 80,
     "metadata": {},
     "output_type": "execute_result"
    }
   ],
   "source": [
    "# we can perform further analysis on this group\n",
    "len(m.group(2))\n"
   ]
  },
  {
   "cell_type": "code",
   "execution_count": null,
   "metadata": {
    "id": "FLALyxe-WbC9",
    "outputId": "1a3b294d-1057-4fb6-9a5b-01d0f229d296"
   },
   "outputs": [
    {
     "data": {
      "text/plain": [
       "'TTAAAACTCAAATGAATTGACGGGG'"
      ]
     },
     "execution_count": 81,
     "metadata": {},
     "output_type": "execute_result"
    }
   ],
   "source": [
    "# group(3) is our reverse primer\n",
    "m.group(3)"
   ]
  },
  {
   "cell_type": "code",
   "execution_count": null,
   "metadata": {
    "id": "ZmFeNh6DWbC-"
   },
   "outputs": [],
   "source": []
  },
  {
   "cell_type": "markdown",
   "metadata": {
    "id": "3WxOAlH_WbC-"
   },
   "source": [
    "# Computación científica\n",
    "\n",
    "Se utilizará `NumPy` y `SciPy`"
   ]
  },
  {
   "cell_type": "code",
   "execution_count": null,
   "metadata": {
    "id": "SJS50mOrWbC-"
   },
   "outputs": [],
   "source": [
    "%matplotlib inline\n",
    "import numpy as np\n",
    "import skimage.io as io"
   ]
  },
  {
   "cell_type": "code",
   "execution_count": null,
   "metadata": {
    "id": "Jq2kK4nOWbC-"
   },
   "outputs": [],
   "source": []
  },
  {
   "cell_type": "code",
   "execution_count": null,
   "metadata": {
    "id": "jSBkzJp9WbC-"
   },
   "outputs": [],
   "source": []
  },
  {
   "cell_type": "code",
   "execution_count": null,
   "metadata": {
    "id": "nM-5slJAWbC-"
   },
   "outputs": [],
   "source": []
  },
  {
   "cell_type": "code",
   "execution_count": null,
   "metadata": {
    "id": "cqyKykzdWbC-"
   },
   "outputs": [],
   "source": []
  },
  {
   "cell_type": "code",
   "execution_count": null,
   "metadata": {
    "id": "THp8dHfQWbC-",
    "outputId": "6869d07d-ddb7-4519-d532-6943d6f9b818"
   },
   "outputs": [
    {
     "ename": "NameError",
     "evalue": "name 'io' is not defined",
     "output_type": "error",
     "traceback": [
      "\u001b[1;31m---------------------------------------------------------------------------\u001b[0m",
      "\u001b[1;31mNameError\u001b[0m                                 Traceback (most recent call last)",
      "\u001b[1;32m~\\AppData\\Local\\Temp/ipykernel_15204/3802644627.py\u001b[0m in \u001b[0;36m<module>\u001b[1;34m\u001b[0m\n\u001b[1;32m----> 1\u001b[1;33m \u001b[0mimage\u001b[0m \u001b[1;33m=\u001b[0m \u001b[0mio\u001b[0m\u001b[1;33m.\u001b[0m\u001b[0mimread\u001b[0m\u001b[1;33m(\u001b[0m\u001b[1;34m\"scidata/Kacsoh2013_Drosobrain.png\"\u001b[0m\u001b[1;33m)\u001b[0m\u001b[1;33m\u001b[0m\u001b[1;33m\u001b[0m\u001b[0m\n\u001b[0m\u001b[0;32m      2\u001b[0m \u001b[0mio\u001b[0m\u001b[1;33m.\u001b[0m\u001b[0mimshow\u001b[0m\u001b[1;33m(\u001b[0m\u001b[0mimage\u001b[0m\u001b[1;33m)\u001b[0m\u001b[1;33m\u001b[0m\u001b[1;33m\u001b[0m\u001b[0m\n",
      "\u001b[1;31mNameError\u001b[0m: name 'io' is not defined"
     ]
    }
   ],
   "source": [
    "image = io.imread(\"scidata/Kacsoh2013_Drosobrain.png\")\n",
    "io.imshow(image)"
   ]
  },
  {
   "cell_type": "code",
   "execution_count": null,
   "metadata": {
    "id": "BMBADkIwWbC-",
    "outputId": "b8c84088-a05f-4aee-ccd3-f7522dd8d225"
   },
   "outputs": [
    {
     "ename": "NameError",
     "evalue": "name 'image' is not defined",
     "output_type": "error",
     "traceback": [
      "\u001b[1;31m---------------------------------------------------------------------------\u001b[0m",
      "\u001b[1;31mNameError\u001b[0m                                 Traceback (most recent call last)",
      "\u001b[1;32m~\\AppData\\Local\\Temp/ipykernel_15204/3931015231.py\u001b[0m in \u001b[0;36m<module>\u001b[1;34m\u001b[0m\n\u001b[1;32m----> 1\u001b[1;33m \u001b[0mimage\u001b[0m\u001b[1;33m.\u001b[0m\u001b[0mshape\u001b[0m\u001b[1;33m\u001b[0m\u001b[1;33m\u001b[0m\u001b[0m\n\u001b[0m",
      "\u001b[1;31mNameError\u001b[0m: name 'image' is not defined"
     ]
    }
   ],
   "source": [
    "image.shape"
   ]
  },
  {
   "cell_type": "code",
   "execution_count": null,
   "metadata": {
    "id": "E1VMjfaLWbC-",
    "outputId": "312497ab-d2e1-48b6-c2eb-163750c471b5"
   },
   "outputs": [
    {
     "ename": "NameError",
     "evalue": "name 'image' is not defined",
     "output_type": "error",
     "traceback": [
      "\u001b[1;31m---------------------------------------------------------------------------\u001b[0m",
      "\u001b[1;31mNameError\u001b[0m                                 Traceback (most recent call last)",
      "\u001b[1;32m~\\AppData\\Local\\Temp/ipykernel_15204/3275891758.py\u001b[0m in \u001b[0;36m<module>\u001b[1;34m\u001b[0m\n\u001b[0;32m      1\u001b[0m \u001b[1;31m# extract the red channel\u001b[0m\u001b[1;33m\u001b[0m\u001b[1;33m\u001b[0m\u001b[0m\n\u001b[1;32m----> 2\u001b[1;33m \u001b[0mred\u001b[0m \u001b[1;33m=\u001b[0m \u001b[0mimage\u001b[0m\u001b[1;33m[\u001b[0m\u001b[1;33m:\u001b[0m\u001b[1;33m,\u001b[0m\u001b[1;33m:\u001b[0m\u001b[1;33m,\u001b[0m\u001b[1;36m0\u001b[0m\u001b[1;33m]\u001b[0m\u001b[1;33m\u001b[0m\u001b[1;33m\u001b[0m\u001b[0m\n\u001b[0m\u001b[0;32m      3\u001b[0m \u001b[0mprint\u001b[0m\u001b[1;33m(\u001b[0m\u001b[0mred\u001b[0m\u001b[1;33m.\u001b[0m\u001b[0mmean\u001b[0m\u001b[1;33m(\u001b[0m\u001b[1;33m)\u001b[0m\u001b[1;33m)\u001b[0m\u001b[1;33m\u001b[0m\u001b[1;33m\u001b[0m\u001b[0m\n\u001b[0;32m      4\u001b[0m \u001b[1;33m\u001b[0m\u001b[0m\n\u001b[0;32m      5\u001b[0m \u001b[0mprint\u001b[0m\u001b[1;33m(\u001b[0m\u001b[0mred\u001b[0m\u001b[1;33m.\u001b[0m\u001b[0mstd\u001b[0m\u001b[1;33m(\u001b[0m\u001b[1;33m)\u001b[0m\u001b[1;33m)\u001b[0m\u001b[1;33m\u001b[0m\u001b[1;33m\u001b[0m\u001b[0m\n",
      "\u001b[1;31mNameError\u001b[0m: name 'image' is not defined"
     ]
    }
   ],
   "source": [
    "# extract the red channel\n",
    "red = image[:,:,0]\n",
    "print(red.mean())\n",
    "\n",
    "print(red.std())\n",
    "\n",
    "print(red.min())\n",
    "\n",
    "print(red.max())\n",
    "\n",
    "# extract the green channel\n",
    "green = image[:,:,1]\n",
    "# mean value of the green channel\n",
    "print(green.mean())\n"
   ]
  },
  {
   "cell_type": "code",
   "execution_count": null,
   "metadata": {
    "id": "yfR_4_Y3WbC_"
   },
   "outputs": [],
   "source": []
  },
  {
   "cell_type": "code",
   "execution_count": null,
   "metadata": {
    "id": "SAv6vOiKWbC_"
   },
   "outputs": [],
   "source": []
  },
  {
   "cell_type": "code",
   "execution_count": null,
   "metadata": {
    "id": "m6_vOyT4WbC_"
   },
   "outputs": [],
   "source": []
  },
  {
   "cell_type": "code",
   "execution_count": null,
   "metadata": {
    "id": "8pqCYIKnWbC_"
   },
   "outputs": [],
   "source": []
  },
  {
   "cell_type": "code",
   "execution_count": null,
   "metadata": {
    "id": "7DA3-RQ8WbC_"
   },
   "outputs": [],
   "source": []
  },
  {
   "cell_type": "code",
   "execution_count": null,
   "metadata": {
    "id": "ACmGriaPWbC_"
   },
   "outputs": [],
   "source": []
  }
 ],
 "metadata": {
  "colab": {
   "name": "3.4_ExpresionesRegulares.ipynb",
   "provenance": []
  },
  "kernelspec": {
   "display_name": "Python 3 (ipykernel)",
   "language": "python",
   "name": "python3"
  },
  "language_info": {
   "codemirror_mode": {
    "name": "ipython",
    "version": 3
   },
   "file_extension": ".py",
   "mimetype": "text/x-python",
   "name": "python",
   "nbconvert_exporter": "python",
   "pygments_lexer": "ipython3",
   "version": "3.9.7"
  },
  "latex_envs": {
   "LaTeX_envs_menu_present": true,
   "autoclose": false,
   "autocomplete": true,
   "bibliofile": "biblio.bib",
   "cite_by": "apalike",
   "current_citInitial": 1,
   "eqLabelWithNumbers": true,
   "eqNumInitial": 1,
   "hotkeys": {
    "equation": "Ctrl-E",
    "itemize": "Ctrl-I"
   },
   "labels_anchors": false,
   "latex_user_defs": false,
   "report_style_numbering": false,
   "user_envs_cfg": false
  },
  "toc": {
   "base_numbering": 1,
   "nav_menu": {},
   "number_sections": true,
   "sideBar": false,
   "skip_h1_title": false,
   "title_cell": "Table of Contents",
   "title_sidebar": "Contents",
   "toc_cell": false,
   "toc_position": {
    "height": "1152.67px",
    "left": "41px",
    "top": "110px",
    "width": "253.458px"
   },
   "toc_section_display": true,
   "toc_window_display": false
  },
  "varInspector": {
   "cols": {
    "lenName": 16,
    "lenType": 16,
    "lenVar": 40
   },
   "kernels_config": {
    "python": {
     "delete_cmd_postfix": "",
     "delete_cmd_prefix": "del ",
     "library": "var_list.py",
     "varRefreshCmd": "print(var_dic_list())"
    },
    "r": {
     "delete_cmd_postfix": ") ",
     "delete_cmd_prefix": "rm(",
     "library": "var_list.r",
     "varRefreshCmd": "cat(var_dic_list()) "
    }
   },
   "types_to_exclude": [
    "module",
    "function",
    "builtin_function_or_method",
    "instance",
    "_Feature"
   ],
   "window_display": false
  }
 },
 "nbformat": 4,
 "nbformat_minor": 1
}
