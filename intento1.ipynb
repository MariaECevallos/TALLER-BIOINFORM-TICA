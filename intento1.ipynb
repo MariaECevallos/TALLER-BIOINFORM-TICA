{
  "metadata": {
    "language_info": {
      "codemirror_mode": {
        "name": "python",
        "version": 3
      },
      "file_extension": ".py",
      "mimetype": "text/x-python",
      "name": "python",
      "nbconvert_exporter": "python",
      "pygments_lexer": "ipython3",
      "version": "3.8"
    },
    "kernelspec": {
      "name": "python",
      "display_name": "Python (Pyodide)",
      "language": "python"
    }
  },
  "nbformat_minor": 4,
  "nbformat": 4,
  "cells": [
    {
      "cell_type": "code",
      "source": "from Bio.Seq import Seq\nfrom Bio import SeqIO\nfrom Bio.SeqFeature import SeqFeature, FeatureLocation\n\nwith open(\"C:\\Users\\User\\Desktop\\BIOINFORMATICA\\id_seq.txt\", \"r\"):\n    gen11 = gen1.read()\n    gen12 = \",\".join(gen11.split(\"\\n\")).split(\",\")\n",
      "metadata": {
        "trusted": true
      },
      "execution_count": 14,
      "outputs": [
        {
          "ename": "<class 'SyntaxError'>",
          "evalue": "(unicode error) 'unicodeescape' codec can't decode bytes in position 2-3: truncated \\UXXXXXXXX escape (<ipython-input-14-e79bdcfc8dc5>, line 5)",
          "traceback": [
            "\u001b[0;36m  Cell \u001b[0;32mIn[14], line 5\u001b[0;36m\u001b[0m\n\u001b[0;31m    with open(\"C:\\Users\\User\\Desktop\\BIOINFORMATICA\\id_seq.txt\", \"r\"):\u001b[0m\n\u001b[0m                                                               ^\u001b[0m\n\u001b[0;31mSyntaxError\u001b[0m\u001b[0;31m:\u001b[0m (unicode error) 'unicodeescape' codec can't decode bytes in position 2-3: truncated \\UXXXXXXXX escape\n"
          ],
          "output_type": "error"
        }
      ]
    },
    {
      "cell_type": "code",
      "source": "",
      "metadata": {},
      "execution_count": null,
      "outputs": []
    },
    {
      "cell_type": "code",
      "source": "",
      "metadata": {},
      "execution_count": null,
      "outputs": []
    }
  ]
}